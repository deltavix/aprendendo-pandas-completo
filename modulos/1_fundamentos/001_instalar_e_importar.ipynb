{
 "cells": [
  {
   "cell_type": "markdown",
   "metadata": {},
   "source": [
    "# # Como instalar e importar o Pandas"
   ]
  },
  {
   "cell_type": "markdown",
   "metadata": {},
   "source": [
    "## # Instalando o Pandas"
   ]
  },
  {
   "cell_type": "markdown",
   "metadata": {},
   "source": [
    "### # No Windows\n",
    "\n",
    " - #### **1. Certifique-se de que o Python está instalado**\n",
    "    No cmd, execute o comando ```python --version```\n",
    "    \n",
    "    Se o Python estiver instalado esse comando retornará informações sobre a versão do Python instalada, se não o comando não retornará nada e você vai precisar baixar e instalar o Python pelo site oficial: [www.python.org](www.python.org)\n",
    "\n",
    " - #### **2. Atualize o pip (gerenciador de pacotes do Python)**\n",
    "    Também no cmd, digite o comando ```python -m pip install --upgrade pip``` para atualizar o gerenciador de pacotes com o qual vamos instalar o Pandas\n",
    "\n",
    " - #### **3. Instale o Pandas**\n",
    "    Por fim basta executar o comando ```pip install pandas```para instalar a biblioteca Pandas no seu sistema\n",
    "\n",
    "### # No Linux\n",
    "\n",
    " - #### **1. Certifique-se de que o Python está instalado**\n",
    "    No seu terminal Linux, execute o comando ```python --version``` ou ```python3 --version```\n",
    "\n",
    "    Se o Python estiver instalado esse comando retornará informações sobre a versão do Python instalada, se não o comando não retornará nada e você vai precisar instalar o Python usando o gerenciador de pacotes da sua distribuição Linux:\n",
    "            \n",
    "    | **Distro**              | **Comando**                                               |\n",
    "    |-------------------------|-----------------------------------------------------------|\n",
    "    | 🍥 **Debian/Debian based** | `sudo apt update && sudo apt install python3 python3-pip` |\n",
    "    | 💎 **Arch/Arch based**     | `sudo pacman -S python python-pip`                        |\n",
    "    | 🎩 **Fedora/Fedora based** | `sudo dnf install python3 python3-pip`                    |\n",
    "\n",
    "\n",
    " - #### **2. Instale o Pandas**\n",
    "    | **Distro**              | **Comando**                                |\n",
    "    |-------------------------|--------------------------------------------|\n",
    "    | 🍥 **Debian/Debian based** | `sudo apt install python3-pandas`          |\n",
    "    | 💎 **Arch/Arch based**     | `sudo pacman -Sy python-pandas`            |\n",
    "    | 🎩 **Fedora/Fedora based** | `sudo dnf install python3-pandas`          |\n"
   ]
  },
  {
   "cell_type": "markdown",
   "metadata": {},
   "source": [
    "## # Importando e verificando a versão do Pandas"
   ]
  },
  {
   "cell_type": "code",
   "execution_count": 3,
   "metadata": {},
   "outputs": [
    {
     "data": {
      "text/plain": [
       "'2.2.3'"
      ]
     },
     "execution_count": 3,
     "metadata": {},
     "output_type": "execute_result"
    }
   ],
   "source": [
    "import pandas as pd\n",
    "\n",
    "pd.__version__"
   ]
  }
 ],
 "metadata": {
  "kernelspec": {
   "display_name": "Python 3",
   "language": "python",
   "name": "python3"
  },
  "language_info": {
   "codemirror_mode": {
    "name": "ipython",
    "version": 3
   },
   "file_extension": ".py",
   "mimetype": "text/x-python",
   "name": "python",
   "nbconvert_exporter": "python",
   "pygments_lexer": "ipython3",
   "version": "3.13.1"
  }
 },
 "nbformat": 4,
 "nbformat_minor": 2
}
