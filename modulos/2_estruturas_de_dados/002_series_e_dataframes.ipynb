{
 "cells": [
  {
   "cell_type": "markdown",
   "metadata": {},
   "source": [
    "# # Importando o Pandas"
   ]
  },
  {
   "cell_type": "code",
   "execution_count": 1,
   "metadata": {},
   "outputs": [],
   "source": [
    "import pandas as pd"
   ]
  },
  {
   "cell_type": "markdown",
   "metadata": {},
   "source": [
    "# # Criando `Series`"
   ]
  },
  {
   "cell_type": "markdown",
   "metadata": {},
   "source": [
    "## # A partir de uma lista do Python"
   ]
  },
  {
   "cell_type": "code",
   "execution_count": 5,
   "metadata": {},
   "outputs": [
    {
     "data": {
      "text/plain": [
       "0    a\n",
       "1    b\n",
       "2    c\n",
       "3    d\n",
       "Name: letras, dtype: object"
      ]
     },
     "execution_count": 5,
     "metadata": {},
     "output_type": "execute_result"
    }
   ],
   "source": [
    "dados_serie_1 = ['a', 'b', 'c', 'd']\n",
    "\n",
    "serie_1 = pd.Series(dados_serie_1, name='letras')\n",
    "\n",
    "serie_1"
   ]
  },
  {
   "cell_type": "markdown",
   "metadata": {},
   "source": [
    "## # A partir de um dicionário do Python"
   ]
  },
  {
   "cell_type": "code",
   "execution_count": 6,
   "metadata": {},
   "outputs": [
    {
     "data": {
      "text/plain": [
       "a    100\n",
       "b    200\n",
       "c    300\n",
       "dtype: int64"
      ]
     },
     "execution_count": 6,
     "metadata": {},
     "output_type": "execute_result"
    }
   ],
   "source": [
    "dados_serie_2 = {'a': 100,\n",
    "                 'b': 200,\n",
    "                 'c': 300}\n",
    "\n",
    "serie_2 = pd.Series(dados_serie_2)\n",
    "\n",
    "serie_2"
   ]
  },
  {
   "cell_type": "markdown",
   "metadata": {},
   "source": [
    "## # A partir de um Array NumPy"
   ]
  },
  {
   "cell_type": "code",
   "execution_count": 7,
   "metadata": {},
   "outputs": [
    {
     "data": {
      "text/plain": [
       "0    1.5\n",
       "1    2.5\n",
       "2    3.5\n",
       "dtype: float64"
      ]
     },
     "execution_count": 7,
     "metadata": {},
     "output_type": "execute_result"
    }
   ],
   "source": [
    "import numpy as np\n",
    "\n",
    "dados_serie_3 = np.array([1.5, 2.5, 3.5])\n",
    "serie_3 = pd.Series(dados_serie_3)\n",
    "\n",
    "serie_3"
   ]
  },
  {
   "cell_type": "markdown",
   "metadata": {},
   "source": [
    "# # Atributos e métodos de `Series`"
   ]
  },
  {
   "cell_type": "markdown",
   "metadata": {},
   "source": [
    "## # Informações básicas(meta dados)"
   ]
  },
  {
   "cell_type": "code",
   "execution_count": null,
   "metadata": {},
   "outputs": [
    {
     "name": "stdout",
     "output_type": "stream",
     "text": [
      "Tipo dos dados: object\n",
      "Dimensões: (4,)\n",
      "Número de elementos: 4\n",
      "Indices da Serie: RangeIndex(start=0, stop=4, step=1)\n",
      "Valores da Serie: ['a' 'b' 'c' 'd']\n"
     ]
    }
   ],
   "source": [
    "print('Tipo dos dados:', serie_1.dtype)\n",
    "\n",
    "print('Dimensões:', serie_1.shape)\n",
    "\n",
    "print('Número de elementos:', serie_1.size)\n",
    "\n",
    "print('Indices da Serie:', serie_1.index)\n",
    "\n",
    "print('Valores da Serie:', serie_1.values)"
   ]
  },
  {
   "cell_type": "markdown",
   "metadata": {},
   "source": [
    "## # Métodos Estatísticos"
   ]
  },
  {
   "cell_type": "code",
   "execution_count": null,
   "metadata": {},
   "outputs": [
    {
     "name": "stdout",
     "output_type": "stream",
     "text": [
      "Número de valores não nulos: 3\n",
      "Média(mean): 200.0\n",
      "Mediana(median): 200.0\n",
      "Desvio padrão: 100.0 \n",
      "\n",
      "Estatísticas gerais:\n",
      "--------------------\n",
      "count      3.0\n",
      "mean     200.0\n",
      "std      100.0\n",
      "min      100.0\n",
      "25%      150.0\n",
      "50%      200.0\n",
      "75%      250.0\n",
      "max      300.0\n",
      "dtype: float64\n"
     ]
    }
   ],
   "source": [
    "print('Número de valores não nulos:', serie_2.count())\n",
    "\n",
    "print('Média(mean):', serie_2.mean())\n",
    "\n",
    "print('Mediana(median):', serie_2.median())\n",
    "\n",
    "print('Desvio padrão:', serie_2.std(), '\\n')\n",
    "\n",
    "print('Estatísticas gerais:\\n--------------------')\n",
    "print(serie_2.describe())"
   ]
  },
  {
   "cell_type": "markdown",
   "metadata": {},
   "source": [
    "## # Manipulacão de dados"
   ]
  },
  {
   "cell_type": "code",
   "execution_count": 99,
   "metadata": {},
   "outputs": [
    {
     "name": "stdout",
     "output_type": "stream",
     "text": [
      "0    1.0\n",
      "2    3.0\n",
      "3    4.0\n",
      "4    5.0\n",
      "dtype: float64 \n",
      "\n",
      "0    1.0\n",
      "1    0.0\n",
      "2    3.0\n",
      "3    4.0\n",
      "4    5.0\n",
      "dtype: float64 \n",
      "\n",
      "0    1\n",
      "1    0\n",
      "2    3\n",
      "3    4\n",
      "4    5\n",
      "dtype: int64\n"
     ]
    }
   ],
   "source": [
    "dados_serie_4 = [1, None, 3, 4, 5]\n",
    "\n",
    "serie_4 = pd.Series(dados_serie_4)\n",
    "\n",
    "print(serie_4.dropna(), '\\n')        # Remove valores NaN\n",
    "print(serie_4.fillna(0), '\\n')       # Substitui NaN por 0\n",
    "print(serie_4.fillna(0).astype(int)) # Converte tipo"
   ]
  },
  {
   "cell_type": "markdown",
   "metadata": {},
   "source": [
    "# # Criando `DataFrames`"
   ]
  },
  {
   "cell_type": "markdown",
   "metadata": {},
   "source": [
    "## # A partir de um dicionário de listas"
   ]
  },
  {
   "cell_type": "code",
   "execution_count": 100,
   "metadata": {},
   "outputs": [
    {
     "data": {
      "application/vnd.microsoft.datawrangler.viewer.v0+json": {
       "columns": [
        {
         "name": "index",
         "rawType": "int64",
         "type": "integer"
        },
        {
         "name": "Nome",
         "rawType": "object",
         "type": "string"
        },
        {
         "name": "Idade",
         "rawType": "int64",
         "type": "integer"
        },
        {
         "name": "Salário",
         "rawType": "int64",
         "type": "integer"
        }
       ],
       "conversionMethod": "pd.DataFrame",
       "ref": "05effe99-a954-4493-9c06-19fa6bd97623",
       "rows": [
        [
         "0",
         "Ana",
         "25",
         "3000"
        ],
        [
         "1",
         "Bruno",
         "30",
         "4000"
        ],
        [
         "2",
         "Carlos",
         "35",
         "5000"
        ]
       ],
       "shape": {
        "columns": 3,
        "rows": 3
       }
      },
      "text/html": [
       "<div>\n",
       "<style scoped>\n",
       "    .dataframe tbody tr th:only-of-type {\n",
       "        vertical-align: middle;\n",
       "    }\n",
       "\n",
       "    .dataframe tbody tr th {\n",
       "        vertical-align: top;\n",
       "    }\n",
       "\n",
       "    .dataframe thead th {\n",
       "        text-align: right;\n",
       "    }\n",
       "</style>\n",
       "<table border=\"1\" class=\"dataframe\">\n",
       "  <thead>\n",
       "    <tr style=\"text-align: right;\">\n",
       "      <th></th>\n",
       "      <th>Nome</th>\n",
       "      <th>Idade</th>\n",
       "      <th>Salário</th>\n",
       "    </tr>\n",
       "  </thead>\n",
       "  <tbody>\n",
       "    <tr>\n",
       "      <th>0</th>\n",
       "      <td>Ana</td>\n",
       "      <td>25</td>\n",
       "      <td>3000</td>\n",
       "    </tr>\n",
       "    <tr>\n",
       "      <th>1</th>\n",
       "      <td>Bruno</td>\n",
       "      <td>30</td>\n",
       "      <td>4000</td>\n",
       "    </tr>\n",
       "    <tr>\n",
       "      <th>2</th>\n",
       "      <td>Carlos</td>\n",
       "      <td>35</td>\n",
       "      <td>5000</td>\n",
       "    </tr>\n",
       "  </tbody>\n",
       "</table>\n",
       "</div>"
      ],
      "text/plain": [
       "     Nome  Idade  Salário\n",
       "0     Ana     25     3000\n",
       "1   Bruno     30     4000\n",
       "2  Carlos     35     5000"
      ]
     },
     "execution_count": 100,
     "metadata": {},
     "output_type": "execute_result"
    }
   ],
   "source": [
    "dados_df_1 = {\n",
    "    'Nome': ['Ana', 'Bruno', 'Carlos'],\n",
    "    'Idade': [25, 30, 35],\n",
    "    'Salário': [3000, 4000, 5000]\n",
    "}\n",
    "\n",
    "df_1 = pd.DataFrame(dados_df_1)\n",
    "\n",
    "df_1"
   ]
  },
  {
   "cell_type": "markdown",
   "metadata": {},
   "source": [
    "## # A partir de uma lista de dicionários"
   ]
  },
  {
   "cell_type": "code",
   "execution_count": 101,
   "metadata": {},
   "outputs": [
    {
     "data": {
      "application/vnd.microsoft.datawrangler.viewer.v0+json": {
       "columns": [
        {
         "name": "index",
         "rawType": "int64",
         "type": "integer"
        },
        {
         "name": "Nome",
         "rawType": "object",
         "type": "string"
        },
        {
         "name": "Idade",
         "rawType": "int64",
         "type": "integer"
        },
        {
         "name": "Salário",
         "rawType": "int64",
         "type": "integer"
        }
       ],
       "conversionMethod": "pd.DataFrame",
       "ref": "d43cd443-b17c-46dd-aa8a-16299b07e923",
       "rows": [
        [
         "0",
         "Ana",
         "25",
         "3000"
        ],
        [
         "1",
         "Bruno",
         "30",
         "4000"
        ],
        [
         "2",
         "Carlos",
         "35",
         "5000"
        ]
       ],
       "shape": {
        "columns": 3,
        "rows": 3
       }
      },
      "text/html": [
       "<div>\n",
       "<style scoped>\n",
       "    .dataframe tbody tr th:only-of-type {\n",
       "        vertical-align: middle;\n",
       "    }\n",
       "\n",
       "    .dataframe tbody tr th {\n",
       "        vertical-align: top;\n",
       "    }\n",
       "\n",
       "    .dataframe thead th {\n",
       "        text-align: right;\n",
       "    }\n",
       "</style>\n",
       "<table border=\"1\" class=\"dataframe\">\n",
       "  <thead>\n",
       "    <tr style=\"text-align: right;\">\n",
       "      <th></th>\n",
       "      <th>Nome</th>\n",
       "      <th>Idade</th>\n",
       "      <th>Salário</th>\n",
       "    </tr>\n",
       "  </thead>\n",
       "  <tbody>\n",
       "    <tr>\n",
       "      <th>0</th>\n",
       "      <td>Ana</td>\n",
       "      <td>25</td>\n",
       "      <td>3000</td>\n",
       "    </tr>\n",
       "    <tr>\n",
       "      <th>1</th>\n",
       "      <td>Bruno</td>\n",
       "      <td>30</td>\n",
       "      <td>4000</td>\n",
       "    </tr>\n",
       "    <tr>\n",
       "      <th>2</th>\n",
       "      <td>Carlos</td>\n",
       "      <td>35</td>\n",
       "      <td>5000</td>\n",
       "    </tr>\n",
       "  </tbody>\n",
       "</table>\n",
       "</div>"
      ],
      "text/plain": [
       "     Nome  Idade  Salário\n",
       "0     Ana     25     3000\n",
       "1   Bruno     30     4000\n",
       "2  Carlos     35     5000"
      ]
     },
     "execution_count": 101,
     "metadata": {},
     "output_type": "execute_result"
    }
   ],
   "source": [
    "dados_df_2 = [\n",
    "    {'Nome': 'Ana', 'Idade': 25, 'Salário': 3000},\n",
    "    {'Nome': 'Bruno', 'Idade': 30, 'Salário': 4000},\n",
    "    {'Nome': 'Carlos', 'Idade': 35, 'Salário': 5000}\n",
    "]\n",
    "\n",
    "df_2 = pd.DataFrame(dados_df_2)\n",
    "\n",
    "df_2"
   ]
  },
  {
   "cell_type": "markdown",
   "metadata": {},
   "source": [
    "## # A partir de um Array NumPy"
   ]
  },
  {
   "cell_type": "code",
   "execution_count": 102,
   "metadata": {},
   "outputs": [
    {
     "data": {
      "application/vnd.microsoft.datawrangler.viewer.v0+json": {
       "columns": [
        {
         "name": "index",
         "rawType": "int64",
         "type": "integer"
        },
        {
         "name": "A",
         "rawType": "int64",
         "type": "integer"
        },
        {
         "name": "B",
         "rawType": "int64",
         "type": "integer"
        },
        {
         "name": "C",
         "rawType": "int64",
         "type": "integer"
        }
       ],
       "conversionMethod": "pd.DataFrame",
       "ref": "303c79d1-0645-4b8e-a514-98fde2a44ad7",
       "rows": [
        [
         "0",
         "1",
         "2",
         "3"
        ],
        [
         "1",
         "4",
         "5",
         "6"
        ],
        [
         "2",
         "7",
         "8",
         "9"
        ],
        [
         "3",
         "10",
         "11",
         "12"
        ]
       ],
       "shape": {
        "columns": 3,
        "rows": 4
       }
      },
      "text/html": [
       "<div>\n",
       "<style scoped>\n",
       "    .dataframe tbody tr th:only-of-type {\n",
       "        vertical-align: middle;\n",
       "    }\n",
       "\n",
       "    .dataframe tbody tr th {\n",
       "        vertical-align: top;\n",
       "    }\n",
       "\n",
       "    .dataframe thead th {\n",
       "        text-align: right;\n",
       "    }\n",
       "</style>\n",
       "<table border=\"1\" class=\"dataframe\">\n",
       "  <thead>\n",
       "    <tr style=\"text-align: right;\">\n",
       "      <th></th>\n",
       "      <th>A</th>\n",
       "      <th>B</th>\n",
       "      <th>C</th>\n",
       "    </tr>\n",
       "  </thead>\n",
       "  <tbody>\n",
       "    <tr>\n",
       "      <th>0</th>\n",
       "      <td>1</td>\n",
       "      <td>2</td>\n",
       "      <td>3</td>\n",
       "    </tr>\n",
       "    <tr>\n",
       "      <th>1</th>\n",
       "      <td>4</td>\n",
       "      <td>5</td>\n",
       "      <td>6</td>\n",
       "    </tr>\n",
       "    <tr>\n",
       "      <th>2</th>\n",
       "      <td>7</td>\n",
       "      <td>8</td>\n",
       "      <td>9</td>\n",
       "    </tr>\n",
       "    <tr>\n",
       "      <th>3</th>\n",
       "      <td>10</td>\n",
       "      <td>11</td>\n",
       "      <td>12</td>\n",
       "    </tr>\n",
       "  </tbody>\n",
       "</table>\n",
       "</div>"
      ],
      "text/plain": [
       "    A   B   C\n",
       "0   1   2   3\n",
       "1   4   5   6\n",
       "2   7   8   9\n",
       "3  10  11  12"
      ]
     },
     "execution_count": 102,
     "metadata": {},
     "output_type": "execute_result"
    }
   ],
   "source": [
    "dados_df_3 = np.array([[1, 2, 3], [4, 5, 6], [7, 8, 9], [10, 11, 12]])\n",
    "\n",
    "df_3 = pd.DataFrame(dados_df_3, columns=['A', 'B', 'C'])\n",
    "\n",
    "df_3"
   ]
  },
  {
   "cell_type": "markdown",
   "metadata": {},
   "source": [
    "# # Atributos e métodos de `DataFrames`"
   ]
  },
  {
   "cell_type": "markdown",
   "metadata": {},
   "source": [
    "## # Informações básicas(meta dados)"
   ]
  },
  {
   "cell_type": "code",
   "execution_count": null,
   "metadata": {},
   "outputs": [
    {
     "name": "stdout",
     "output_type": "stream",
     "text": [
      "Informações gerais:\n",
      "-------------------\n",
      "<class 'pandas.core.frame.DataFrame'>\n",
      "RangeIndex: 3 entries, 0 to 2\n",
      "Data columns (total 3 columns):\n",
      " #   Column   Non-Null Count  Dtype \n",
      "---  ------   --------------  ----- \n",
      " 0   Nome     3 non-null      object\n",
      " 1   Idade    3 non-null      int64 \n",
      " 2   Salário  3 non-null      int64 \n",
      "dtypes: int64(2), object(1)\n",
      "memory usage: 204.0+ bytes\n",
      "None \n",
      "\n",
      "Dimensões: (3, 3) \n",
      "\n",
      "Rótulos/Índices das colunas: Index(['Nome', 'Idade', 'Salário'], dtype='object') \n",
      "\n",
      "Índices das linhas: RangeIndex(start=0, stop=3, step=1) \n",
      "\n",
      "Tipos dos dados de cada coluna:\n",
      "-------------------------------\n",
      "Nome       object\n",
      "Idade       int64\n",
      "Salário     int64\n",
      "dtype: object\n"
     ]
    }
   ],
   "source": [
    "print('Informações gerais:\\n-------------------')\n",
    "print(df_1.info(), '\\n')\n",
    "\n",
    "print('Dimensões:', df_1.shape, '\\n')\n",
    "\n",
    "print('Rótulos/Índices das colunas:', df_1.columns, '\\n')\n",
    "\n",
    "print('Índices das linhas:', df_1.index, '\\n')\n",
    "\n",
    "print('Tipos dos dados de cada coluna:\\n-------------------------------')\n",
    "print(df_1.dtypes)"
   ]
  },
  {
   "cell_type": "markdown",
   "metadata": {},
   "source": [
    "## # Métodos Estatísticos"
   ]
  },
  {
   "cell_type": "code",
   "execution_count": 117,
   "metadata": {},
   "outputs": [
    {
     "name": "stdout",
     "output_type": "stream",
     "text": [
      "Estatísticas gerais:\n",
      "--------------------\n",
      "       Idade  Salário\n",
      "count    3.0      3.0\n",
      "mean    30.0   4000.0\n",
      "std      5.0   1000.0\n",
      "min     25.0   3000.0\n",
      "25%     27.5   3500.0\n",
      "50%     30.0   4000.0\n",
      "75%     32.5   4500.0\n",
      "max     35.0   5000.0 \n",
      "\n",
      "Média da coluna \"Idade\": 30.0 \n",
      "\n",
      "Soma da coluna \"Salário\": 12000 \n",
      "\n",
      "Contagem de valores únicos da coluna \"Idade\":\n",
      "Idade\n",
      "25    1\n",
      "30    1\n",
      "35    1\n",
      "Name: count, dtype: int64\n"
     ]
    }
   ],
   "source": [
    "print('Estatísticas gerais:\\n--------------------')\n",
    "print(df_1.describe(), '\\n')\n",
    "\n",
    "print('Média da coluna \"Idade\":', df_1['Idade'].mean(), '\\n')\n",
    "\n",
    "print('Soma da coluna \"Salário\":', df_1['Salário'].sum(), '\\n')\n",
    "print('Contagem de valores únicos da coluna \"Idade\":')\n",
    "print(df_1['Idade'].value_counts())\n"
   ]
  },
  {
   "cell_type": "markdown",
   "metadata": {},
   "source": [
    "## # Manipulação de dados"
   ]
  },
  {
   "cell_type": "code",
   "execution_count": 122,
   "metadata": {},
   "outputs": [
    {
     "name": "stdout",
     "output_type": "stream",
     "text": [
      "     Nome  Idade  Salário\n",
      "0     Ana     25  3000.50\n",
      "1   Bruno     30  4000.25\n",
      "2  Carlos     35  5000.00 \n",
      "\n",
      "      Nome  Idade  Salário\n",
      "0      Ana     25  3000.50\n",
      "1    Bruno     30  4000.25\n",
      "2   Carlos     35  5000.00\n",
      "3  Daniela     40     0.00 \n",
      "\n",
      "0    3000\n",
      "1    4000\n",
      "2    5000\n",
      "3       0\n",
      "Name: Salário, dtype: int64\n"
     ]
    }
   ],
   "source": [
    "df_4 = pd.DataFrame({\n",
    "    'Nome': ['Ana', 'Bruno', 'Carlos', 'Daniela'],\n",
    "    'Idade': [25, 30, 35, 40],\n",
    "    'Salário': [3000.50, 4000.25, 5000, None]\n",
    "})\n",
    "\n",
    "print(df_4.dropna(), '\\n')        # Remove valores NaN\n",
    "print(df_4.fillna(0), '\\n')       # Substitui NaN por 0\n",
    "print(df_4['Salário'].fillna(0).astype(int)) # Converte tipo"
   ]
  },
  {
   "cell_type": "code",
   "execution_count": null,
   "metadata": {},
   "outputs": [],
   "source": []
  }
 ],
 "metadata": {
  "kernelspec": {
   "display_name": "Python 3",
   "language": "python",
   "name": "python3"
  },
  "language_info": {
   "codemirror_mode": {
    "name": "ipython",
    "version": 3
   },
   "file_extension": ".py",
   "mimetype": "text/x-python",
   "name": "python",
   "nbconvert_exporter": "python",
   "pygments_lexer": "ipython3",
   "version": "3.13.1"
  }
 },
 "nbformat": 4,
 "nbformat_minor": 2
}
