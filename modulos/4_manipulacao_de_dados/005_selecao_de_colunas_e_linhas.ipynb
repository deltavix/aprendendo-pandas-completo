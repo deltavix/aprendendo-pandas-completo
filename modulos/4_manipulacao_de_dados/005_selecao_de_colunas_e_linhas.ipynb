{
 "cells": [
  {
   "cell_type": "markdown",
   "metadata": {},
   "source": [
    "# # Importando o Pandas e o DataFrame"
   ]
  },
  {
   "cell_type": "code",
   "execution_count": 4,
   "metadata": {},
   "outputs": [
    {
     "data": {
      "application/vnd.microsoft.datawrangler.viewer.v0+json": {
       "columns": [
        {
         "name": "Id",
         "rawType": "int64",
         "type": "integer"
        },
        {
         "name": "SepalLengthCm",
         "rawType": "float64",
         "type": "float"
        },
        {
         "name": "SepalWidthCm",
         "rawType": "float64",
         "type": "float"
        },
        {
         "name": "PetalLengthCm",
         "rawType": "float64",
         "type": "float"
        },
        {
         "name": "PetalWidthCm",
         "rawType": "float64",
         "type": "float"
        },
        {
         "name": "Species",
         "rawType": "object",
         "type": "string"
        },
        {
         "name": "PetalAreaCm",
         "rawType": "float64",
         "type": "float"
        }
       ],
       "conversionMethod": "pd.DataFrame",
       "ref": "dce722e5-9c1e-45bf-9f52-8814700c1eef",
       "rows": [
        [
         "1",
         "5.1",
         "3.5",
         "1.4",
         "0.2",
         "Iris-setosa",
         "0.28"
        ],
        [
         "2",
         "4.9",
         "3.0",
         "1.4",
         "0.2",
         "Iris-setosa",
         "0.28"
        ],
        [
         "3",
         "4.7",
         "3.2",
         "1.3",
         "0.2",
         "Iris-setosa",
         "0.26"
        ],
        [
         "4",
         "4.6",
         "3.1",
         "1.5",
         "0.2",
         "Iris-setosa",
         "0.3"
        ],
        [
         "5",
         "5.0",
         "3.6",
         "1.4",
         "0.2",
         "Iris-setosa",
         "0.28"
        ]
       ],
       "shape": {
        "columns": 6,
        "rows": 5
       }
      },
      "text/html": [
       "<div>\n",
       "<style scoped>\n",
       "    .dataframe tbody tr th:only-of-type {\n",
       "        vertical-align: middle;\n",
       "    }\n",
       "\n",
       "    .dataframe tbody tr th {\n",
       "        vertical-align: top;\n",
       "    }\n",
       "\n",
       "    .dataframe thead th {\n",
       "        text-align: right;\n",
       "    }\n",
       "</style>\n",
       "<table border=\"1\" class=\"dataframe\">\n",
       "  <thead>\n",
       "    <tr style=\"text-align: right;\">\n",
       "      <th></th>\n",
       "      <th>SepalLengthCm</th>\n",
       "      <th>SepalWidthCm</th>\n",
       "      <th>PetalLengthCm</th>\n",
       "      <th>PetalWidthCm</th>\n",
       "      <th>Species</th>\n",
       "      <th>PetalAreaCm</th>\n",
       "    </tr>\n",
       "    <tr>\n",
       "      <th>Id</th>\n",
       "      <th></th>\n",
       "      <th></th>\n",
       "      <th></th>\n",
       "      <th></th>\n",
       "      <th></th>\n",
       "      <th></th>\n",
       "    </tr>\n",
       "  </thead>\n",
       "  <tbody>\n",
       "    <tr>\n",
       "      <th>1</th>\n",
       "      <td>5.1</td>\n",
       "      <td>3.5</td>\n",
       "      <td>1.4</td>\n",
       "      <td>0.2</td>\n",
       "      <td>Iris-setosa</td>\n",
       "      <td>0.28</td>\n",
       "    </tr>\n",
       "    <tr>\n",
       "      <th>2</th>\n",
       "      <td>4.9</td>\n",
       "      <td>3.0</td>\n",
       "      <td>1.4</td>\n",
       "      <td>0.2</td>\n",
       "      <td>Iris-setosa</td>\n",
       "      <td>0.28</td>\n",
       "    </tr>\n",
       "    <tr>\n",
       "      <th>3</th>\n",
       "      <td>4.7</td>\n",
       "      <td>3.2</td>\n",
       "      <td>1.3</td>\n",
       "      <td>0.2</td>\n",
       "      <td>Iris-setosa</td>\n",
       "      <td>0.26</td>\n",
       "    </tr>\n",
       "    <tr>\n",
       "      <th>4</th>\n",
       "      <td>4.6</td>\n",
       "      <td>3.1</td>\n",
       "      <td>1.5</td>\n",
       "      <td>0.2</td>\n",
       "      <td>Iris-setosa</td>\n",
       "      <td>0.30</td>\n",
       "    </tr>\n",
       "    <tr>\n",
       "      <th>5</th>\n",
       "      <td>5.0</td>\n",
       "      <td>3.6</td>\n",
       "      <td>1.4</td>\n",
       "      <td>0.2</td>\n",
       "      <td>Iris-setosa</td>\n",
       "      <td>0.28</td>\n",
       "    </tr>\n",
       "  </tbody>\n",
       "</table>\n",
       "</div>"
      ],
      "text/plain": [
       "    SepalLengthCm  SepalWidthCm  PetalLengthCm  PetalWidthCm      Species  \\\n",
       "Id                                                                          \n",
       "1             5.1           3.5            1.4           0.2  Iris-setosa   \n",
       "2             4.9           3.0            1.4           0.2  Iris-setosa   \n",
       "3             4.7           3.2            1.3           0.2  Iris-setosa   \n",
       "4             4.6           3.1            1.5           0.2  Iris-setosa   \n",
       "5             5.0           3.6            1.4           0.2  Iris-setosa   \n",
       "\n",
       "    PetalAreaCm  \n",
       "Id               \n",
       "1          0.28  \n",
       "2          0.28  \n",
       "3          0.26  \n",
       "4          0.30  \n",
       "5          0.28  "
      ]
     },
     "execution_count": 4,
     "metadata": {},
     "output_type": "execute_result"
    }
   ],
   "source": [
    "import pandas as pd\n",
    "\n",
    "df = pd.read_parquet('../../datasets/iris/Iris_Processed.parquet')\n",
    "\n",
    "df.head()"
   ]
  },
  {
   "cell_type": "markdown",
   "metadata": {},
   "source": [
    "# # Selecionando colunas"
   ]
  },
  {
   "cell_type": "markdown",
   "metadata": {},
   "source": [
    "## # Selecionando uma única coluna"
   ]
  },
  {
   "cell_type": "code",
   "execution_count": 5,
   "metadata": {},
   "outputs": [
    {
     "data": {
      "text/plain": [
       "Id\n",
       "1       0.28\n",
       "2       0.28\n",
       "3       0.26\n",
       "4       0.30\n",
       "5       0.28\n",
       "       ...  \n",
       "146    11.96\n",
       "147     9.50\n",
       "148    10.40\n",
       "149    12.42\n",
       "150     9.18\n",
       "Name: PetalAreaCm, Length: 150, dtype: float64"
      ]
     },
     "execution_count": 5,
     "metadata": {},
     "output_type": "execute_result"
    }
   ],
   "source": [
    "df['PetalAreaCm']"
   ]
  },
  {
   "cell_type": "markdown",
   "metadata": {},
   "source": [
    "## # Selecionando múltiplas colunas"
   ]
  },
  {
   "cell_type": "code",
   "execution_count": 7,
   "metadata": {},
   "outputs": [
    {
     "data": {
      "application/vnd.microsoft.datawrangler.viewer.v0+json": {
       "columns": [
        {
         "name": "Id",
         "rawType": "int64",
         "type": "integer"
        },
        {
         "name": "PetalLengthCm",
         "rawType": "float64",
         "type": "float"
        },
        {
         "name": "PetalWidthCm",
         "rawType": "float64",
         "type": "float"
        },
        {
         "name": "PetalAreaCm",
         "rawType": "float64",
         "type": "float"
        }
       ],
       "conversionMethod": "pd.DataFrame",
       "ref": "ca29fa22-fdbf-4d6a-8737-77df7c5b8ca1",
       "rows": [
        [
         "1",
         "1.4",
         "0.2",
         "0.28"
        ],
        [
         "2",
         "1.4",
         "0.2",
         "0.28"
        ],
        [
         "3",
         "1.3",
         "0.2",
         "0.26"
        ],
        [
         "4",
         "1.5",
         "0.2",
         "0.3"
        ],
        [
         "5",
         "1.4",
         "0.2",
         "0.28"
        ],
        [
         "6",
         "1.7",
         "0.4",
         "0.68"
        ],
        [
         "7",
         "1.4",
         "0.3",
         "0.42"
        ],
        [
         "8",
         "1.5",
         "0.2",
         "0.3"
        ],
        [
         "9",
         "1.4",
         "0.2",
         "0.28"
        ],
        [
         "10",
         "1.5",
         "0.1",
         "0.15"
        ],
        [
         "11",
         "1.5",
         "0.2",
         "0.3"
        ],
        [
         "12",
         "1.6",
         "0.2",
         "0.32"
        ],
        [
         "13",
         "1.4",
         "0.1",
         "0.14"
        ],
        [
         "14",
         "1.1",
         "0.1",
         "0.11"
        ],
        [
         "15",
         "1.2",
         "0.2",
         "0.24"
        ],
        [
         "16",
         "1.5",
         "0.4",
         "0.6"
        ],
        [
         "17",
         "1.3",
         "0.4",
         "0.52"
        ],
        [
         "18",
         "1.4",
         "0.3",
         "0.42"
        ],
        [
         "19",
         "1.7",
         "0.3",
         "0.51"
        ],
        [
         "20",
         "1.5",
         "0.3",
         "0.45"
        ],
        [
         "21",
         "1.7",
         "0.2",
         "0.34"
        ],
        [
         "22",
         "1.5",
         "0.4",
         "0.6"
        ],
        [
         "23",
         "1.0",
         "0.2",
         "0.2"
        ],
        [
         "24",
         "1.7",
         "0.5",
         "0.85"
        ],
        [
         "25",
         "1.9",
         "0.2",
         "0.38"
        ],
        [
         "26",
         "1.6",
         "0.2",
         "0.32"
        ],
        [
         "27",
         "1.6",
         "0.4",
         "0.64"
        ],
        [
         "28",
         "1.5",
         "0.2",
         "0.3"
        ],
        [
         "29",
         "1.4",
         "0.2",
         "0.28"
        ],
        [
         "30",
         "1.6",
         "0.2",
         "0.32"
        ],
        [
         "31",
         "1.6",
         "0.2",
         "0.32"
        ],
        [
         "32",
         "1.5",
         "0.4",
         "0.6"
        ],
        [
         "33",
         "1.5",
         "0.1",
         "0.15"
        ],
        [
         "34",
         "1.4",
         "0.2",
         "0.28"
        ],
        [
         "35",
         "1.5",
         "0.1",
         "0.15"
        ],
        [
         "36",
         "1.2",
         "0.2",
         "0.24"
        ],
        [
         "37",
         "1.3",
         "0.2",
         "0.26"
        ],
        [
         "38",
         "1.5",
         "0.1",
         "0.15"
        ],
        [
         "39",
         "1.3",
         "0.2",
         "0.26"
        ],
        [
         "40",
         "1.5",
         "0.2",
         "0.3"
        ],
        [
         "41",
         "1.3",
         "0.3",
         "0.39"
        ],
        [
         "42",
         "1.3",
         "0.3",
         "0.39"
        ],
        [
         "43",
         "1.3",
         "0.2",
         "0.26"
        ],
        [
         "44",
         "1.6",
         "0.6",
         "0.96"
        ],
        [
         "45",
         "1.9",
         "0.4",
         "0.76"
        ],
        [
         "46",
         "1.4",
         "0.3",
         "0.42"
        ],
        [
         "47",
         "1.6",
         "0.2",
         "0.32"
        ],
        [
         "48",
         "1.4",
         "0.2",
         "0.28"
        ],
        [
         "49",
         "1.5",
         "0.2",
         "0.3"
        ],
        [
         "50",
         "1.4",
         "0.2",
         "0.28"
        ]
       ],
       "shape": {
        "columns": 3,
        "rows": 150
       }
      },
      "text/html": [
       "<div>\n",
       "<style scoped>\n",
       "    .dataframe tbody tr th:only-of-type {\n",
       "        vertical-align: middle;\n",
       "    }\n",
       "\n",
       "    .dataframe tbody tr th {\n",
       "        vertical-align: top;\n",
       "    }\n",
       "\n",
       "    .dataframe thead th {\n",
       "        text-align: right;\n",
       "    }\n",
       "</style>\n",
       "<table border=\"1\" class=\"dataframe\">\n",
       "  <thead>\n",
       "    <tr style=\"text-align: right;\">\n",
       "      <th></th>\n",
       "      <th>PetalLengthCm</th>\n",
       "      <th>PetalWidthCm</th>\n",
       "      <th>PetalAreaCm</th>\n",
       "    </tr>\n",
       "    <tr>\n",
       "      <th>Id</th>\n",
       "      <th></th>\n",
       "      <th></th>\n",
       "      <th></th>\n",
       "    </tr>\n",
       "  </thead>\n",
       "  <tbody>\n",
       "    <tr>\n",
       "      <th>1</th>\n",
       "      <td>1.4</td>\n",
       "      <td>0.2</td>\n",
       "      <td>0.28</td>\n",
       "    </tr>\n",
       "    <tr>\n",
       "      <th>2</th>\n",
       "      <td>1.4</td>\n",
       "      <td>0.2</td>\n",
       "      <td>0.28</td>\n",
       "    </tr>\n",
       "    <tr>\n",
       "      <th>3</th>\n",
       "      <td>1.3</td>\n",
       "      <td>0.2</td>\n",
       "      <td>0.26</td>\n",
       "    </tr>\n",
       "    <tr>\n",
       "      <th>4</th>\n",
       "      <td>1.5</td>\n",
       "      <td>0.2</td>\n",
       "      <td>0.30</td>\n",
       "    </tr>\n",
       "    <tr>\n",
       "      <th>5</th>\n",
       "      <td>1.4</td>\n",
       "      <td>0.2</td>\n",
       "      <td>0.28</td>\n",
       "    </tr>\n",
       "    <tr>\n",
       "      <th>...</th>\n",
       "      <td>...</td>\n",
       "      <td>...</td>\n",
       "      <td>...</td>\n",
       "    </tr>\n",
       "    <tr>\n",
       "      <th>146</th>\n",
       "      <td>5.2</td>\n",
       "      <td>2.3</td>\n",
       "      <td>11.96</td>\n",
       "    </tr>\n",
       "    <tr>\n",
       "      <th>147</th>\n",
       "      <td>5.0</td>\n",
       "      <td>1.9</td>\n",
       "      <td>9.50</td>\n",
       "    </tr>\n",
       "    <tr>\n",
       "      <th>148</th>\n",
       "      <td>5.2</td>\n",
       "      <td>2.0</td>\n",
       "      <td>10.40</td>\n",
       "    </tr>\n",
       "    <tr>\n",
       "      <th>149</th>\n",
       "      <td>5.4</td>\n",
       "      <td>2.3</td>\n",
       "      <td>12.42</td>\n",
       "    </tr>\n",
       "    <tr>\n",
       "      <th>150</th>\n",
       "      <td>5.1</td>\n",
       "      <td>1.8</td>\n",
       "      <td>9.18</td>\n",
       "    </tr>\n",
       "  </tbody>\n",
       "</table>\n",
       "<p>150 rows × 3 columns</p>\n",
       "</div>"
      ],
      "text/plain": [
       "     PetalLengthCm  PetalWidthCm  PetalAreaCm\n",
       "Id                                           \n",
       "1              1.4           0.2         0.28\n",
       "2              1.4           0.2         0.28\n",
       "3              1.3           0.2         0.26\n",
       "4              1.5           0.2         0.30\n",
       "5              1.4           0.2         0.28\n",
       "..             ...           ...          ...\n",
       "146            5.2           2.3        11.96\n",
       "147            5.0           1.9         9.50\n",
       "148            5.2           2.0        10.40\n",
       "149            5.4           2.3        12.42\n",
       "150            5.1           1.8         9.18\n",
       "\n",
       "[150 rows x 3 columns]"
      ]
     },
     "execution_count": 7,
     "metadata": {},
     "output_type": "execute_result"
    }
   ],
   "source": [
    "df[['PetalLengthCm', 'PetalWidthCm', 'PetalAreaCm']]"
   ]
  },
  {
   "cell_type": "markdown",
   "metadata": {},
   "source": [
    "## # Selecionando colunas por posição numérica com `.iloc`"
   ]
  },
  {
   "cell_type": "code",
   "execution_count": 13,
   "metadata": {},
   "outputs": [
    {
     "data": {
      "text/plain": [
       "Index(['SepalLengthCm', 'SepalWidthCm', 'PetalLengthCm', 'PetalWidthCm',\n",
       "       'Species', 'PetalAreaCm'],\n",
       "      dtype='object')"
      ]
     },
     "execution_count": 13,
     "metadata": {},
     "output_type": "execute_result"
    }
   ],
   "source": [
    "df.columns"
   ]
  },
  {
   "cell_type": "code",
   "execution_count": 21,
   "metadata": {},
   "outputs": [
    {
     "data": {
      "text/plain": [
       "('PetalLengthCm', 'PetalWidthCm', 'PetalAreaCm')"
      ]
     },
     "execution_count": 21,
     "metadata": {},
     "output_type": "execute_result"
    }
   ],
   "source": [
    "df.columns[2], df.columns[3], df.columns[5]"
   ]
  },
  {
   "cell_type": "code",
   "execution_count": 31,
   "metadata": {},
   "outputs": [
    {
     "data": {
      "application/vnd.microsoft.datawrangler.viewer.v0+json": {
       "columns": [
        {
         "name": "Id",
         "rawType": "int64",
         "type": "integer"
        },
        {
         "name": "PetalLengthCm",
         "rawType": "float64",
         "type": "float"
        },
        {
         "name": "PetalWidthCm",
         "rawType": "float64",
         "type": "float"
        },
        {
         "name": "PetalAreaCm",
         "rawType": "float64",
         "type": "float"
        }
       ],
       "conversionMethod": "pd.DataFrame",
       "ref": "78ab4c2b-7b62-408d-b068-e6b486a7c029",
       "rows": [
        [
         "1",
         "1.4",
         "0.2",
         "0.28"
        ],
        [
         "2",
         "1.4",
         "0.2",
         "0.28"
        ],
        [
         "3",
         "1.3",
         "0.2",
         "0.26"
        ],
        [
         "4",
         "1.5",
         "0.2",
         "0.3"
        ],
        [
         "5",
         "1.4",
         "0.2",
         "0.28"
        ],
        [
         "6",
         "1.7",
         "0.4",
         "0.68"
        ],
        [
         "7",
         "1.4",
         "0.3",
         "0.42"
        ],
        [
         "8",
         "1.5",
         "0.2",
         "0.3"
        ],
        [
         "9",
         "1.4",
         "0.2",
         "0.28"
        ],
        [
         "10",
         "1.5",
         "0.1",
         "0.15"
        ],
        [
         "11",
         "1.5",
         "0.2",
         "0.3"
        ],
        [
         "12",
         "1.6",
         "0.2",
         "0.32"
        ],
        [
         "13",
         "1.4",
         "0.1",
         "0.14"
        ],
        [
         "14",
         "1.1",
         "0.1",
         "0.11"
        ],
        [
         "15",
         "1.2",
         "0.2",
         "0.24"
        ],
        [
         "16",
         "1.5",
         "0.4",
         "0.6"
        ],
        [
         "17",
         "1.3",
         "0.4",
         "0.52"
        ],
        [
         "18",
         "1.4",
         "0.3",
         "0.42"
        ],
        [
         "19",
         "1.7",
         "0.3",
         "0.51"
        ],
        [
         "20",
         "1.5",
         "0.3",
         "0.45"
        ],
        [
         "21",
         "1.7",
         "0.2",
         "0.34"
        ],
        [
         "22",
         "1.5",
         "0.4",
         "0.6"
        ],
        [
         "23",
         "1.0",
         "0.2",
         "0.2"
        ],
        [
         "24",
         "1.7",
         "0.5",
         "0.85"
        ],
        [
         "25",
         "1.9",
         "0.2",
         "0.38"
        ],
        [
         "26",
         "1.6",
         "0.2",
         "0.32"
        ],
        [
         "27",
         "1.6",
         "0.4",
         "0.64"
        ],
        [
         "28",
         "1.5",
         "0.2",
         "0.3"
        ],
        [
         "29",
         "1.4",
         "0.2",
         "0.28"
        ],
        [
         "30",
         "1.6",
         "0.2",
         "0.32"
        ],
        [
         "31",
         "1.6",
         "0.2",
         "0.32"
        ],
        [
         "32",
         "1.5",
         "0.4",
         "0.6"
        ],
        [
         "33",
         "1.5",
         "0.1",
         "0.15"
        ],
        [
         "34",
         "1.4",
         "0.2",
         "0.28"
        ],
        [
         "35",
         "1.5",
         "0.1",
         "0.15"
        ],
        [
         "36",
         "1.2",
         "0.2",
         "0.24"
        ],
        [
         "37",
         "1.3",
         "0.2",
         "0.26"
        ],
        [
         "38",
         "1.5",
         "0.1",
         "0.15"
        ],
        [
         "39",
         "1.3",
         "0.2",
         "0.26"
        ],
        [
         "40",
         "1.5",
         "0.2",
         "0.3"
        ],
        [
         "41",
         "1.3",
         "0.3",
         "0.39"
        ],
        [
         "42",
         "1.3",
         "0.3",
         "0.39"
        ],
        [
         "43",
         "1.3",
         "0.2",
         "0.26"
        ],
        [
         "44",
         "1.6",
         "0.6",
         "0.96"
        ],
        [
         "45",
         "1.9",
         "0.4",
         "0.76"
        ],
        [
         "46",
         "1.4",
         "0.3",
         "0.42"
        ],
        [
         "47",
         "1.6",
         "0.2",
         "0.32"
        ],
        [
         "48",
         "1.4",
         "0.2",
         "0.28"
        ],
        [
         "49",
         "1.5",
         "0.2",
         "0.3"
        ],
        [
         "50",
         "1.4",
         "0.2",
         "0.28"
        ]
       ],
       "shape": {
        "columns": 3,
        "rows": 150
       }
      },
      "text/html": [
       "<div>\n",
       "<style scoped>\n",
       "    .dataframe tbody tr th:only-of-type {\n",
       "        vertical-align: middle;\n",
       "    }\n",
       "\n",
       "    .dataframe tbody tr th {\n",
       "        vertical-align: top;\n",
       "    }\n",
       "\n",
       "    .dataframe thead th {\n",
       "        text-align: right;\n",
       "    }\n",
       "</style>\n",
       "<table border=\"1\" class=\"dataframe\">\n",
       "  <thead>\n",
       "    <tr style=\"text-align: right;\">\n",
       "      <th></th>\n",
       "      <th>PetalLengthCm</th>\n",
       "      <th>PetalWidthCm</th>\n",
       "      <th>PetalAreaCm</th>\n",
       "    </tr>\n",
       "    <tr>\n",
       "      <th>Id</th>\n",
       "      <th></th>\n",
       "      <th></th>\n",
       "      <th></th>\n",
       "    </tr>\n",
       "  </thead>\n",
       "  <tbody>\n",
       "    <tr>\n",
       "      <th>1</th>\n",
       "      <td>1.4</td>\n",
       "      <td>0.2</td>\n",
       "      <td>0.28</td>\n",
       "    </tr>\n",
       "    <tr>\n",
       "      <th>2</th>\n",
       "      <td>1.4</td>\n",
       "      <td>0.2</td>\n",
       "      <td>0.28</td>\n",
       "    </tr>\n",
       "    <tr>\n",
       "      <th>3</th>\n",
       "      <td>1.3</td>\n",
       "      <td>0.2</td>\n",
       "      <td>0.26</td>\n",
       "    </tr>\n",
       "    <tr>\n",
       "      <th>4</th>\n",
       "      <td>1.5</td>\n",
       "      <td>0.2</td>\n",
       "      <td>0.30</td>\n",
       "    </tr>\n",
       "    <tr>\n",
       "      <th>5</th>\n",
       "      <td>1.4</td>\n",
       "      <td>0.2</td>\n",
       "      <td>0.28</td>\n",
       "    </tr>\n",
       "    <tr>\n",
       "      <th>...</th>\n",
       "      <td>...</td>\n",
       "      <td>...</td>\n",
       "      <td>...</td>\n",
       "    </tr>\n",
       "    <tr>\n",
       "      <th>146</th>\n",
       "      <td>5.2</td>\n",
       "      <td>2.3</td>\n",
       "      <td>11.96</td>\n",
       "    </tr>\n",
       "    <tr>\n",
       "      <th>147</th>\n",
       "      <td>5.0</td>\n",
       "      <td>1.9</td>\n",
       "      <td>9.50</td>\n",
       "    </tr>\n",
       "    <tr>\n",
       "      <th>148</th>\n",
       "      <td>5.2</td>\n",
       "      <td>2.0</td>\n",
       "      <td>10.40</td>\n",
       "    </tr>\n",
       "    <tr>\n",
       "      <th>149</th>\n",
       "      <td>5.4</td>\n",
       "      <td>2.3</td>\n",
       "      <td>12.42</td>\n",
       "    </tr>\n",
       "    <tr>\n",
       "      <th>150</th>\n",
       "      <td>5.1</td>\n",
       "      <td>1.8</td>\n",
       "      <td>9.18</td>\n",
       "    </tr>\n",
       "  </tbody>\n",
       "</table>\n",
       "<p>150 rows × 3 columns</p>\n",
       "</div>"
      ],
      "text/plain": [
       "     PetalLengthCm  PetalWidthCm  PetalAreaCm\n",
       "Id                                           \n",
       "1              1.4           0.2         0.28\n",
       "2              1.4           0.2         0.28\n",
       "3              1.3           0.2         0.26\n",
       "4              1.5           0.2         0.30\n",
       "5              1.4           0.2         0.28\n",
       "..             ...           ...          ...\n",
       "146            5.2           2.3        11.96\n",
       "147            5.0           1.9         9.50\n",
       "148            5.2           2.0        10.40\n",
       "149            5.4           2.3        12.42\n",
       "150            5.1           1.8         9.18\n",
       "\n",
       "[150 rows x 3 columns]"
      ]
     },
     "execution_count": 31,
     "metadata": {},
     "output_type": "execute_result"
    }
   ],
   "source": [
    "df.iloc[:, [2, 3, 5]] # O primeiro parâmetro são as linhas a serem selecionadas e o segundo são as colunas"
   ]
  },
  {
   "cell_type": "markdown",
   "metadata": {},
   "source": [
    "## # Selecionando colunas por nome com `.loc`"
   ]
  },
  {
   "cell_type": "code",
   "execution_count": 35,
   "metadata": {},
   "outputs": [
    {
     "data": {
      "application/vnd.microsoft.datawrangler.viewer.v0+json": {
       "columns": [
        {
         "name": "Id",
         "rawType": "int64",
         "type": "integer"
        },
        {
         "name": "Species",
         "rawType": "object",
         "type": "string"
        },
        {
         "name": "PetalAreaCm",
         "rawType": "float64",
         "type": "float"
        }
       ],
       "conversionMethod": "pd.DataFrame",
       "ref": "4417ccb5-48f8-4d88-b868-a9668fa47f5f",
       "rows": [
        [
         "1",
         "Iris-setosa",
         "0.28"
        ],
        [
         "2",
         "Iris-setosa",
         "0.28"
        ],
        [
         "3",
         "Iris-setosa",
         "0.26"
        ],
        [
         "4",
         "Iris-setosa",
         "0.3"
        ],
        [
         "5",
         "Iris-setosa",
         "0.28"
        ],
        [
         "6",
         "Iris-setosa",
         "0.68"
        ],
        [
         "7",
         "Iris-setosa",
         "0.42"
        ],
        [
         "8",
         "Iris-setosa",
         "0.3"
        ],
        [
         "9",
         "Iris-setosa",
         "0.28"
        ],
        [
         "10",
         "Iris-setosa",
         "0.15"
        ],
        [
         "11",
         "Iris-setosa",
         "0.3"
        ],
        [
         "12",
         "Iris-setosa",
         "0.32"
        ],
        [
         "13",
         "Iris-setosa",
         "0.14"
        ],
        [
         "14",
         "Iris-setosa",
         "0.11"
        ],
        [
         "15",
         "Iris-setosa",
         "0.24"
        ],
        [
         "16",
         "Iris-setosa",
         "0.6"
        ],
        [
         "17",
         "Iris-setosa",
         "0.52"
        ],
        [
         "18",
         "Iris-setosa",
         "0.42"
        ],
        [
         "19",
         "Iris-setosa",
         "0.51"
        ],
        [
         "20",
         "Iris-setosa",
         "0.45"
        ],
        [
         "21",
         "Iris-setosa",
         "0.34"
        ],
        [
         "22",
         "Iris-setosa",
         "0.6"
        ],
        [
         "23",
         "Iris-setosa",
         "0.2"
        ],
        [
         "24",
         "Iris-setosa",
         "0.85"
        ],
        [
         "25",
         "Iris-setosa",
         "0.38"
        ],
        [
         "26",
         "Iris-setosa",
         "0.32"
        ],
        [
         "27",
         "Iris-setosa",
         "0.64"
        ],
        [
         "28",
         "Iris-setosa",
         "0.3"
        ],
        [
         "29",
         "Iris-setosa",
         "0.28"
        ],
        [
         "30",
         "Iris-setosa",
         "0.32"
        ],
        [
         "31",
         "Iris-setosa",
         "0.32"
        ],
        [
         "32",
         "Iris-setosa",
         "0.6"
        ],
        [
         "33",
         "Iris-setosa",
         "0.15"
        ],
        [
         "34",
         "Iris-setosa",
         "0.28"
        ],
        [
         "35",
         "Iris-setosa",
         "0.15"
        ],
        [
         "36",
         "Iris-setosa",
         "0.24"
        ],
        [
         "37",
         "Iris-setosa",
         "0.26"
        ],
        [
         "38",
         "Iris-setosa",
         "0.15"
        ],
        [
         "39",
         "Iris-setosa",
         "0.26"
        ],
        [
         "40",
         "Iris-setosa",
         "0.3"
        ],
        [
         "41",
         "Iris-setosa",
         "0.39"
        ],
        [
         "42",
         "Iris-setosa",
         "0.39"
        ],
        [
         "43",
         "Iris-setosa",
         "0.26"
        ],
        [
         "44",
         "Iris-setosa",
         "0.96"
        ],
        [
         "45",
         "Iris-setosa",
         "0.76"
        ],
        [
         "46",
         "Iris-setosa",
         "0.42"
        ],
        [
         "47",
         "Iris-setosa",
         "0.32"
        ],
        [
         "48",
         "Iris-setosa",
         "0.28"
        ],
        [
         "49",
         "Iris-setosa",
         "0.3"
        ],
        [
         "50",
         "Iris-setosa",
         "0.28"
        ]
       ],
       "shape": {
        "columns": 2,
        "rows": 150
       }
      },
      "text/html": [
       "<div>\n",
       "<style scoped>\n",
       "    .dataframe tbody tr th:only-of-type {\n",
       "        vertical-align: middle;\n",
       "    }\n",
       "\n",
       "    .dataframe tbody tr th {\n",
       "        vertical-align: top;\n",
       "    }\n",
       "\n",
       "    .dataframe thead th {\n",
       "        text-align: right;\n",
       "    }\n",
       "</style>\n",
       "<table border=\"1\" class=\"dataframe\">\n",
       "  <thead>\n",
       "    <tr style=\"text-align: right;\">\n",
       "      <th></th>\n",
       "      <th>Species</th>\n",
       "      <th>PetalAreaCm</th>\n",
       "    </tr>\n",
       "    <tr>\n",
       "      <th>Id</th>\n",
       "      <th></th>\n",
       "      <th></th>\n",
       "    </tr>\n",
       "  </thead>\n",
       "  <tbody>\n",
       "    <tr>\n",
       "      <th>1</th>\n",
       "      <td>Iris-setosa</td>\n",
       "      <td>0.28</td>\n",
       "    </tr>\n",
       "    <tr>\n",
       "      <th>2</th>\n",
       "      <td>Iris-setosa</td>\n",
       "      <td>0.28</td>\n",
       "    </tr>\n",
       "    <tr>\n",
       "      <th>3</th>\n",
       "      <td>Iris-setosa</td>\n",
       "      <td>0.26</td>\n",
       "    </tr>\n",
       "    <tr>\n",
       "      <th>4</th>\n",
       "      <td>Iris-setosa</td>\n",
       "      <td>0.30</td>\n",
       "    </tr>\n",
       "    <tr>\n",
       "      <th>5</th>\n",
       "      <td>Iris-setosa</td>\n",
       "      <td>0.28</td>\n",
       "    </tr>\n",
       "    <tr>\n",
       "      <th>...</th>\n",
       "      <td>...</td>\n",
       "      <td>...</td>\n",
       "    </tr>\n",
       "    <tr>\n",
       "      <th>146</th>\n",
       "      <td>Iris-virginica</td>\n",
       "      <td>11.96</td>\n",
       "    </tr>\n",
       "    <tr>\n",
       "      <th>147</th>\n",
       "      <td>Iris-virginica</td>\n",
       "      <td>9.50</td>\n",
       "    </tr>\n",
       "    <tr>\n",
       "      <th>148</th>\n",
       "      <td>Iris-virginica</td>\n",
       "      <td>10.40</td>\n",
       "    </tr>\n",
       "    <tr>\n",
       "      <th>149</th>\n",
       "      <td>Iris-virginica</td>\n",
       "      <td>12.42</td>\n",
       "    </tr>\n",
       "    <tr>\n",
       "      <th>150</th>\n",
       "      <td>Iris-virginica</td>\n",
       "      <td>9.18</td>\n",
       "    </tr>\n",
       "  </tbody>\n",
       "</table>\n",
       "<p>150 rows × 2 columns</p>\n",
       "</div>"
      ],
      "text/plain": [
       "            Species  PetalAreaCm\n",
       "Id                              \n",
       "1       Iris-setosa         0.28\n",
       "2       Iris-setosa         0.28\n",
       "3       Iris-setosa         0.26\n",
       "4       Iris-setosa         0.30\n",
       "5       Iris-setosa         0.28\n",
       "..              ...          ...\n",
       "146  Iris-virginica        11.96\n",
       "147  Iris-virginica         9.50\n",
       "148  Iris-virginica        10.40\n",
       "149  Iris-virginica        12.42\n",
       "150  Iris-virginica         9.18\n",
       "\n",
       "[150 rows x 2 columns]"
      ]
     },
     "execution_count": 35,
     "metadata": {},
     "output_type": "execute_result"
    }
   ],
   "source": [
    "df.loc[:, ['Species', 'PetalAreaCm']]"
   ]
  },
  {
   "cell_type": "markdown",
   "metadata": {},
   "source": [
    "# # Selecionando linhas"
   ]
  },
  {
   "cell_type": "markdown",
   "metadata": {},
   "source": [
    "## # Selecionando uma única linha pelo índice com `.loc`"
   ]
  },
  {
   "cell_type": "code",
   "execution_count": 45,
   "metadata": {},
   "outputs": [
    {
     "data": {
      "text/plain": [
       "SepalLengthCm            5.1\n",
       "SepalWidthCm             3.5\n",
       "PetalLengthCm            1.4\n",
       "PetalWidthCm             0.2\n",
       "Species          Iris-setosa\n",
       "PetalAreaCm             0.28\n",
       "Name: 1, dtype: object"
      ]
     },
     "execution_count": 45,
     "metadata": {},
     "output_type": "execute_result"
    }
   ],
   "source": [
    "df.loc[1] # ou df.iloc[0]"
   ]
  },
  {
   "cell_type": "markdown",
   "metadata": {},
   "source": [
    "## # Selecionando múltiplas linhas pelo índice com `.loc`"
   ]
  },
  {
   "cell_type": "code",
   "execution_count": 47,
   "metadata": {},
   "outputs": [
    {
     "data": {
      "application/vnd.microsoft.datawrangler.viewer.v0+json": {
       "columns": [
        {
         "name": "Id",
         "rawType": "int64",
         "type": "integer"
        },
        {
         "name": "SepalLengthCm",
         "rawType": "float64",
         "type": "float"
        },
        {
         "name": "SepalWidthCm",
         "rawType": "float64",
         "type": "float"
        },
        {
         "name": "PetalLengthCm",
         "rawType": "float64",
         "type": "float"
        },
        {
         "name": "PetalWidthCm",
         "rawType": "float64",
         "type": "float"
        },
        {
         "name": "Species",
         "rawType": "object",
         "type": "string"
        },
        {
         "name": "PetalAreaCm",
         "rawType": "float64",
         "type": "float"
        }
       ],
       "conversionMethod": "pd.DataFrame",
       "ref": "531fcaef-87e5-4b1a-8492-8cb167668dbd",
       "rows": [
        [
         "1",
         "5.1",
         "3.5",
         "1.4",
         "0.2",
         "Iris-setosa",
         "0.28"
        ],
        [
         "4",
         "4.6",
         "3.1",
         "1.5",
         "0.2",
         "Iris-setosa",
         "0.3"
        ]
       ],
       "shape": {
        "columns": 6,
        "rows": 2
       }
      },
      "text/html": [
       "<div>\n",
       "<style scoped>\n",
       "    .dataframe tbody tr th:only-of-type {\n",
       "        vertical-align: middle;\n",
       "    }\n",
       "\n",
       "    .dataframe tbody tr th {\n",
       "        vertical-align: top;\n",
       "    }\n",
       "\n",
       "    .dataframe thead th {\n",
       "        text-align: right;\n",
       "    }\n",
       "</style>\n",
       "<table border=\"1\" class=\"dataframe\">\n",
       "  <thead>\n",
       "    <tr style=\"text-align: right;\">\n",
       "      <th></th>\n",
       "      <th>SepalLengthCm</th>\n",
       "      <th>SepalWidthCm</th>\n",
       "      <th>PetalLengthCm</th>\n",
       "      <th>PetalWidthCm</th>\n",
       "      <th>Species</th>\n",
       "      <th>PetalAreaCm</th>\n",
       "    </tr>\n",
       "    <tr>\n",
       "      <th>Id</th>\n",
       "      <th></th>\n",
       "      <th></th>\n",
       "      <th></th>\n",
       "      <th></th>\n",
       "      <th></th>\n",
       "      <th></th>\n",
       "    </tr>\n",
       "  </thead>\n",
       "  <tbody>\n",
       "    <tr>\n",
       "      <th>1</th>\n",
       "      <td>5.1</td>\n",
       "      <td>3.5</td>\n",
       "      <td>1.4</td>\n",
       "      <td>0.2</td>\n",
       "      <td>Iris-setosa</td>\n",
       "      <td>0.28</td>\n",
       "    </tr>\n",
       "    <tr>\n",
       "      <th>4</th>\n",
       "      <td>4.6</td>\n",
       "      <td>3.1</td>\n",
       "      <td>1.5</td>\n",
       "      <td>0.2</td>\n",
       "      <td>Iris-setosa</td>\n",
       "      <td>0.30</td>\n",
       "    </tr>\n",
       "  </tbody>\n",
       "</table>\n",
       "</div>"
      ],
      "text/plain": [
       "    SepalLengthCm  SepalWidthCm  PetalLengthCm  PetalWidthCm      Species  \\\n",
       "Id                                                                          \n",
       "1             5.1           3.5            1.4           0.2  Iris-setosa   \n",
       "4             4.6           3.1            1.5           0.2  Iris-setosa   \n",
       "\n",
       "    PetalAreaCm  \n",
       "Id               \n",
       "1          0.28  \n",
       "4          0.30  "
      ]
     },
     "execution_count": 47,
     "metadata": {},
     "output_type": "execute_result"
    }
   ],
   "source": [
    "df.loc[[1, 4]]"
   ]
  },
  {
   "cell_type": "markdown",
   "metadata": {},
   "source": [
    "## # Selecionando um intervalo de linhas pelo índice com `.loc`"
   ]
  },
  {
   "cell_type": "code",
   "execution_count": 49,
   "metadata": {},
   "outputs": [
    {
     "data": {
      "application/vnd.microsoft.datawrangler.viewer.v0+json": {
       "columns": [
        {
         "name": "Id",
         "rawType": "int64",
         "type": "integer"
        },
        {
         "name": "SepalLengthCm",
         "rawType": "float64",
         "type": "float"
        },
        {
         "name": "SepalWidthCm",
         "rawType": "float64",
         "type": "float"
        },
        {
         "name": "PetalLengthCm",
         "rawType": "float64",
         "type": "float"
        },
        {
         "name": "PetalWidthCm",
         "rawType": "float64",
         "type": "float"
        },
        {
         "name": "Species",
         "rawType": "object",
         "type": "string"
        },
        {
         "name": "PetalAreaCm",
         "rawType": "float64",
         "type": "float"
        }
       ],
       "conversionMethod": "pd.DataFrame",
       "ref": "28b3cd52-1a1d-401d-921a-25e1e8a21236",
       "rows": [
        [
         "1",
         "5.1",
         "3.5",
         "1.4",
         "0.2",
         "Iris-setosa",
         "0.28"
        ],
        [
         "2",
         "4.9",
         "3.0",
         "1.4",
         "0.2",
         "Iris-setosa",
         "0.28"
        ],
        [
         "3",
         "4.7",
         "3.2",
         "1.3",
         "0.2",
         "Iris-setosa",
         "0.26"
        ],
        [
         "4",
         "4.6",
         "3.1",
         "1.5",
         "0.2",
         "Iris-setosa",
         "0.3"
        ],
        [
         "5",
         "5.0",
         "3.6",
         "1.4",
         "0.2",
         "Iris-setosa",
         "0.28"
        ]
       ],
       "shape": {
        "columns": 6,
        "rows": 5
       }
      },
      "text/html": [
       "<div>\n",
       "<style scoped>\n",
       "    .dataframe tbody tr th:only-of-type {\n",
       "        vertical-align: middle;\n",
       "    }\n",
       "\n",
       "    .dataframe tbody tr th {\n",
       "        vertical-align: top;\n",
       "    }\n",
       "\n",
       "    .dataframe thead th {\n",
       "        text-align: right;\n",
       "    }\n",
       "</style>\n",
       "<table border=\"1\" class=\"dataframe\">\n",
       "  <thead>\n",
       "    <tr style=\"text-align: right;\">\n",
       "      <th></th>\n",
       "      <th>SepalLengthCm</th>\n",
       "      <th>SepalWidthCm</th>\n",
       "      <th>PetalLengthCm</th>\n",
       "      <th>PetalWidthCm</th>\n",
       "      <th>Species</th>\n",
       "      <th>PetalAreaCm</th>\n",
       "    </tr>\n",
       "    <tr>\n",
       "      <th>Id</th>\n",
       "      <th></th>\n",
       "      <th></th>\n",
       "      <th></th>\n",
       "      <th></th>\n",
       "      <th></th>\n",
       "      <th></th>\n",
       "    </tr>\n",
       "  </thead>\n",
       "  <tbody>\n",
       "    <tr>\n",
       "      <th>1</th>\n",
       "      <td>5.1</td>\n",
       "      <td>3.5</td>\n",
       "      <td>1.4</td>\n",
       "      <td>0.2</td>\n",
       "      <td>Iris-setosa</td>\n",
       "      <td>0.28</td>\n",
       "    </tr>\n",
       "    <tr>\n",
       "      <th>2</th>\n",
       "      <td>4.9</td>\n",
       "      <td>3.0</td>\n",
       "      <td>1.4</td>\n",
       "      <td>0.2</td>\n",
       "      <td>Iris-setosa</td>\n",
       "      <td>0.28</td>\n",
       "    </tr>\n",
       "    <tr>\n",
       "      <th>3</th>\n",
       "      <td>4.7</td>\n",
       "      <td>3.2</td>\n",
       "      <td>1.3</td>\n",
       "      <td>0.2</td>\n",
       "      <td>Iris-setosa</td>\n",
       "      <td>0.26</td>\n",
       "    </tr>\n",
       "    <tr>\n",
       "      <th>4</th>\n",
       "      <td>4.6</td>\n",
       "      <td>3.1</td>\n",
       "      <td>1.5</td>\n",
       "      <td>0.2</td>\n",
       "      <td>Iris-setosa</td>\n",
       "      <td>0.30</td>\n",
       "    </tr>\n",
       "    <tr>\n",
       "      <th>5</th>\n",
       "      <td>5.0</td>\n",
       "      <td>3.6</td>\n",
       "      <td>1.4</td>\n",
       "      <td>0.2</td>\n",
       "      <td>Iris-setosa</td>\n",
       "      <td>0.28</td>\n",
       "    </tr>\n",
       "  </tbody>\n",
       "</table>\n",
       "</div>"
      ],
      "text/plain": [
       "    SepalLengthCm  SepalWidthCm  PetalLengthCm  PetalWidthCm      Species  \\\n",
       "Id                                                                          \n",
       "1             5.1           3.5            1.4           0.2  Iris-setosa   \n",
       "2             4.9           3.0            1.4           0.2  Iris-setosa   \n",
       "3             4.7           3.2            1.3           0.2  Iris-setosa   \n",
       "4             4.6           3.1            1.5           0.2  Iris-setosa   \n",
       "5             5.0           3.6            1.4           0.2  Iris-setosa   \n",
       "\n",
       "    PetalAreaCm  \n",
       "Id               \n",
       "1          0.28  \n",
       "2          0.28  \n",
       "3          0.26  \n",
       "4          0.30  \n",
       "5          0.28  "
      ]
     },
     "execution_count": 49,
     "metadata": {},
     "output_type": "execute_result"
    }
   ],
   "source": [
    "df.loc[1:5]"
   ]
  },
  {
   "cell_type": "markdown",
   "metadata": {},
   "source": [
    "## # Selecionando linhas por posição numérica com `.iloc`"
   ]
  },
  {
   "cell_type": "code",
   "execution_count": 50,
   "metadata": {},
   "outputs": [
    {
     "data": {
      "text/plain": [
       "SepalLengthCm            5.1\n",
       "SepalWidthCm             3.5\n",
       "PetalLengthCm            1.4\n",
       "PetalWidthCm             0.2\n",
       "Species          Iris-setosa\n",
       "PetalAreaCm             0.28\n",
       "Name: 1, dtype: object"
      ]
     },
     "execution_count": 50,
     "metadata": {},
     "output_type": "execute_result"
    }
   ],
   "source": [
    "df.iloc[0]"
   ]
  },
  {
   "cell_type": "markdown",
   "metadata": {},
   "source": [
    "# # Selecionando colunas e linhas ao mesmo tempo"
   ]
  },
  {
   "cell_type": "markdown",
   "metadata": {},
   "source": [
    "## # Com loc (seleção por rótulo)"
   ]
  },
  {
   "cell_type": "code",
   "execution_count": 52,
   "metadata": {},
   "outputs": [
    {
     "data": {
      "application/vnd.microsoft.datawrangler.viewer.v0+json": {
       "columns": [
        {
         "name": "Id",
         "rawType": "int64",
         "type": "integer"
        },
        {
         "name": "Species",
         "rawType": "object",
         "type": "string"
        },
        {
         "name": "PetalAreaCm",
         "rawType": "float64",
         "type": "float"
        }
       ],
       "conversionMethod": "pd.DataFrame",
       "ref": "f31d7bbd-20c2-4934-93bd-a34fde8009a6",
       "rows": [
        [
         "5",
         "Iris-setosa",
         "0.28"
        ],
        [
         "10",
         "Iris-setosa",
         "0.15"
        ],
        [
         "15",
         "Iris-setosa",
         "0.24"
        ],
        [
         "20",
         "Iris-setosa",
         "0.45"
        ],
        [
         "25",
         "Iris-setosa",
         "0.38"
        ]
       ],
       "shape": {
        "columns": 2,
        "rows": 5
       }
      },
      "text/html": [
       "<div>\n",
       "<style scoped>\n",
       "    .dataframe tbody tr th:only-of-type {\n",
       "        vertical-align: middle;\n",
       "    }\n",
       "\n",
       "    .dataframe tbody tr th {\n",
       "        vertical-align: top;\n",
       "    }\n",
       "\n",
       "    .dataframe thead th {\n",
       "        text-align: right;\n",
       "    }\n",
       "</style>\n",
       "<table border=\"1\" class=\"dataframe\">\n",
       "  <thead>\n",
       "    <tr style=\"text-align: right;\">\n",
       "      <th></th>\n",
       "      <th>Species</th>\n",
       "      <th>PetalAreaCm</th>\n",
       "    </tr>\n",
       "    <tr>\n",
       "      <th>Id</th>\n",
       "      <th></th>\n",
       "      <th></th>\n",
       "    </tr>\n",
       "  </thead>\n",
       "  <tbody>\n",
       "    <tr>\n",
       "      <th>5</th>\n",
       "      <td>Iris-setosa</td>\n",
       "      <td>0.28</td>\n",
       "    </tr>\n",
       "    <tr>\n",
       "      <th>10</th>\n",
       "      <td>Iris-setosa</td>\n",
       "      <td>0.15</td>\n",
       "    </tr>\n",
       "    <tr>\n",
       "      <th>15</th>\n",
       "      <td>Iris-setosa</td>\n",
       "      <td>0.24</td>\n",
       "    </tr>\n",
       "    <tr>\n",
       "      <th>20</th>\n",
       "      <td>Iris-setosa</td>\n",
       "      <td>0.45</td>\n",
       "    </tr>\n",
       "    <tr>\n",
       "      <th>25</th>\n",
       "      <td>Iris-setosa</td>\n",
       "      <td>0.38</td>\n",
       "    </tr>\n",
       "  </tbody>\n",
       "</table>\n",
       "</div>"
      ],
      "text/plain": [
       "        Species  PetalAreaCm\n",
       "Id                          \n",
       "5   Iris-setosa         0.28\n",
       "10  Iris-setosa         0.15\n",
       "15  Iris-setosa         0.24\n",
       "20  Iris-setosa         0.45\n",
       "25  Iris-setosa         0.38"
      ]
     },
     "execution_count": 52,
     "metadata": {},
     "output_type": "execute_result"
    }
   ],
   "source": [
    "df.loc[[5, 10, 15, 20, 25], ['Species', 'PetalAreaCm']]"
   ]
  },
  {
   "cell_type": "markdown",
   "metadata": {},
   "source": [
    "## # Com iloc (seleção por índice)"
   ]
  },
  {
   "cell_type": "code",
   "execution_count": 55,
   "metadata": {},
   "outputs": [
    {
     "data": {
      "text/plain": [
       "'Iris-setosa'"
      ]
     },
     "execution_count": 55,
     "metadata": {},
     "output_type": "execute_result"
    }
   ],
   "source": [
    "df.iloc[0, 4]"
   ]
  },
  {
   "cell_type": "markdown",
   "metadata": {},
   "source": [
    "# # Selecionando dados com condições (boolean indexing)"
   ]
  },
  {
   "cell_type": "markdown",
   "metadata": {},
   "source": [
    "## # Selecionar linhas com base em uma condição"
   ]
  },
  {
   "cell_type": "code",
   "execution_count": 56,
   "metadata": {},
   "outputs": [
    {
     "data": {
      "application/vnd.microsoft.datawrangler.viewer.v0+json": {
       "columns": [
        {
         "name": "Id",
         "rawType": "int64",
         "type": "integer"
        },
        {
         "name": "SepalLengthCm",
         "rawType": "float64",
         "type": "float"
        },
        {
         "name": "SepalWidthCm",
         "rawType": "float64",
         "type": "float"
        },
        {
         "name": "PetalLengthCm",
         "rawType": "float64",
         "type": "float"
        },
        {
         "name": "PetalWidthCm",
         "rawType": "float64",
         "type": "float"
        },
        {
         "name": "Species",
         "rawType": "object",
         "type": "string"
        },
        {
         "name": "PetalAreaCm",
         "rawType": "float64",
         "type": "float"
        }
       ],
       "conversionMethod": "pd.DataFrame",
       "ref": "eb67802c-b2bb-4f6e-a306-b5b233d754c6",
       "rows": [
        [
         "1",
         "5.1",
         "3.5",
         "1.4",
         "0.2",
         "Iris-setosa",
         "0.28"
        ],
        [
         "2",
         "4.9",
         "3.0",
         "1.4",
         "0.2",
         "Iris-setosa",
         "0.28"
        ],
        [
         "3",
         "4.7",
         "3.2",
         "1.3",
         "0.2",
         "Iris-setosa",
         "0.26"
        ],
        [
         "4",
         "4.6",
         "3.1",
         "1.5",
         "0.2",
         "Iris-setosa",
         "0.3"
        ],
        [
         "5",
         "5.0",
         "3.6",
         "1.4",
         "0.2",
         "Iris-setosa",
         "0.28"
        ],
        [
         "6",
         "5.4",
         "3.9",
         "1.7",
         "0.4",
         "Iris-setosa",
         "0.68"
        ],
        [
         "7",
         "4.6",
         "3.4",
         "1.4",
         "0.3",
         "Iris-setosa",
         "0.42"
        ],
        [
         "8",
         "5.0",
         "3.4",
         "1.5",
         "0.2",
         "Iris-setosa",
         "0.3"
        ],
        [
         "9",
         "4.4",
         "2.9",
         "1.4",
         "0.2",
         "Iris-setosa",
         "0.28"
        ],
        [
         "10",
         "4.9",
         "3.1",
         "1.5",
         "0.1",
         "Iris-setosa",
         "0.15"
        ],
        [
         "11",
         "5.4",
         "3.7",
         "1.5",
         "0.2",
         "Iris-setosa",
         "0.3"
        ],
        [
         "12",
         "4.8",
         "3.4",
         "1.6",
         "0.2",
         "Iris-setosa",
         "0.32"
        ],
        [
         "13",
         "4.8",
         "3.0",
         "1.4",
         "0.1",
         "Iris-setosa",
         "0.14"
        ],
        [
         "14",
         "4.3",
         "3.0",
         "1.1",
         "0.1",
         "Iris-setosa",
         "0.11"
        ],
        [
         "15",
         "5.8",
         "4.0",
         "1.2",
         "0.2",
         "Iris-setosa",
         "0.24"
        ],
        [
         "16",
         "5.7",
         "4.4",
         "1.5",
         "0.4",
         "Iris-setosa",
         "0.6"
        ],
        [
         "17",
         "5.4",
         "3.9",
         "1.3",
         "0.4",
         "Iris-setosa",
         "0.52"
        ],
        [
         "18",
         "5.1",
         "3.5",
         "1.4",
         "0.3",
         "Iris-setosa",
         "0.42"
        ],
        [
         "19",
         "5.7",
         "3.8",
         "1.7",
         "0.3",
         "Iris-setosa",
         "0.51"
        ],
        [
         "20",
         "5.1",
         "3.8",
         "1.5",
         "0.3",
         "Iris-setosa",
         "0.45"
        ],
        [
         "21",
         "5.4",
         "3.4",
         "1.7",
         "0.2",
         "Iris-setosa",
         "0.34"
        ],
        [
         "22",
         "5.1",
         "3.7",
         "1.5",
         "0.4",
         "Iris-setosa",
         "0.6"
        ],
        [
         "23",
         "4.6",
         "3.6",
         "1.0",
         "0.2",
         "Iris-setosa",
         "0.2"
        ],
        [
         "24",
         "5.1",
         "3.3",
         "1.7",
         "0.5",
         "Iris-setosa",
         "0.85"
        ],
        [
         "25",
         "4.8",
         "3.4",
         "1.9",
         "0.2",
         "Iris-setosa",
         "0.38"
        ],
        [
         "26",
         "5.0",
         "3.0",
         "1.6",
         "0.2",
         "Iris-setosa",
         "0.32"
        ],
        [
         "27",
         "5.0",
         "3.4",
         "1.6",
         "0.4",
         "Iris-setosa",
         "0.64"
        ],
        [
         "28",
         "5.2",
         "3.5",
         "1.5",
         "0.2",
         "Iris-setosa",
         "0.3"
        ],
        [
         "29",
         "5.2",
         "3.4",
         "1.4",
         "0.2",
         "Iris-setosa",
         "0.28"
        ],
        [
         "30",
         "4.7",
         "3.2",
         "1.6",
         "0.2",
         "Iris-setosa",
         "0.32"
        ],
        [
         "31",
         "4.8",
         "3.1",
         "1.6",
         "0.2",
         "Iris-setosa",
         "0.32"
        ],
        [
         "32",
         "5.4",
         "3.4",
         "1.5",
         "0.4",
         "Iris-setosa",
         "0.6"
        ],
        [
         "33",
         "5.2",
         "4.1",
         "1.5",
         "0.1",
         "Iris-setosa",
         "0.15"
        ],
        [
         "34",
         "5.5",
         "4.2",
         "1.4",
         "0.2",
         "Iris-setosa",
         "0.28"
        ],
        [
         "35",
         "4.9",
         "3.1",
         "1.5",
         "0.1",
         "Iris-setosa",
         "0.15"
        ],
        [
         "36",
         "5.0",
         "3.2",
         "1.2",
         "0.2",
         "Iris-setosa",
         "0.24"
        ],
        [
         "37",
         "5.5",
         "3.5",
         "1.3",
         "0.2",
         "Iris-setosa",
         "0.26"
        ],
        [
         "38",
         "4.9",
         "3.1",
         "1.5",
         "0.1",
         "Iris-setosa",
         "0.15"
        ],
        [
         "39",
         "4.4",
         "3.0",
         "1.3",
         "0.2",
         "Iris-setosa",
         "0.26"
        ],
        [
         "40",
         "5.1",
         "3.4",
         "1.5",
         "0.2",
         "Iris-setosa",
         "0.3"
        ],
        [
         "41",
         "5.0",
         "3.5",
         "1.3",
         "0.3",
         "Iris-setosa",
         "0.39"
        ],
        [
         "42",
         "4.5",
         "2.3",
         "1.3",
         "0.3",
         "Iris-setosa",
         "0.39"
        ],
        [
         "43",
         "4.4",
         "3.2",
         "1.3",
         "0.2",
         "Iris-setosa",
         "0.26"
        ],
        [
         "44",
         "5.0",
         "3.5",
         "1.6",
         "0.6",
         "Iris-setosa",
         "0.96"
        ],
        [
         "45",
         "5.1",
         "3.8",
         "1.9",
         "0.4",
         "Iris-setosa",
         "0.76"
        ],
        [
         "46",
         "4.8",
         "3.0",
         "1.4",
         "0.3",
         "Iris-setosa",
         "0.42"
        ],
        [
         "47",
         "5.1",
         "3.8",
         "1.6",
         "0.2",
         "Iris-setosa",
         "0.32"
        ],
        [
         "48",
         "4.6",
         "3.2",
         "1.4",
         "0.2",
         "Iris-setosa",
         "0.28"
        ],
        [
         "49",
         "5.3",
         "3.7",
         "1.5",
         "0.2",
         "Iris-setosa",
         "0.3"
        ],
        [
         "50",
         "5.0",
         "3.3",
         "1.4",
         "0.2",
         "Iris-setosa",
         "0.28"
        ]
       ],
       "shape": {
        "columns": 6,
        "rows": 50
       }
      },
      "text/html": [
       "<div>\n",
       "<style scoped>\n",
       "    .dataframe tbody tr th:only-of-type {\n",
       "        vertical-align: middle;\n",
       "    }\n",
       "\n",
       "    .dataframe tbody tr th {\n",
       "        vertical-align: top;\n",
       "    }\n",
       "\n",
       "    .dataframe thead th {\n",
       "        text-align: right;\n",
       "    }\n",
       "</style>\n",
       "<table border=\"1\" class=\"dataframe\">\n",
       "  <thead>\n",
       "    <tr style=\"text-align: right;\">\n",
       "      <th></th>\n",
       "      <th>SepalLengthCm</th>\n",
       "      <th>SepalWidthCm</th>\n",
       "      <th>PetalLengthCm</th>\n",
       "      <th>PetalWidthCm</th>\n",
       "      <th>Species</th>\n",
       "      <th>PetalAreaCm</th>\n",
       "    </tr>\n",
       "    <tr>\n",
       "      <th>Id</th>\n",
       "      <th></th>\n",
       "      <th></th>\n",
       "      <th></th>\n",
       "      <th></th>\n",
       "      <th></th>\n",
       "      <th></th>\n",
       "    </tr>\n",
       "  </thead>\n",
       "  <tbody>\n",
       "    <tr>\n",
       "      <th>1</th>\n",
       "      <td>5.1</td>\n",
       "      <td>3.5</td>\n",
       "      <td>1.4</td>\n",
       "      <td>0.2</td>\n",
       "      <td>Iris-setosa</td>\n",
       "      <td>0.28</td>\n",
       "    </tr>\n",
       "    <tr>\n",
       "      <th>2</th>\n",
       "      <td>4.9</td>\n",
       "      <td>3.0</td>\n",
       "      <td>1.4</td>\n",
       "      <td>0.2</td>\n",
       "      <td>Iris-setosa</td>\n",
       "      <td>0.28</td>\n",
       "    </tr>\n",
       "    <tr>\n",
       "      <th>3</th>\n",
       "      <td>4.7</td>\n",
       "      <td>3.2</td>\n",
       "      <td>1.3</td>\n",
       "      <td>0.2</td>\n",
       "      <td>Iris-setosa</td>\n",
       "      <td>0.26</td>\n",
       "    </tr>\n",
       "    <tr>\n",
       "      <th>4</th>\n",
       "      <td>4.6</td>\n",
       "      <td>3.1</td>\n",
       "      <td>1.5</td>\n",
       "      <td>0.2</td>\n",
       "      <td>Iris-setosa</td>\n",
       "      <td>0.30</td>\n",
       "    </tr>\n",
       "    <tr>\n",
       "      <th>5</th>\n",
       "      <td>5.0</td>\n",
       "      <td>3.6</td>\n",
       "      <td>1.4</td>\n",
       "      <td>0.2</td>\n",
       "      <td>Iris-setosa</td>\n",
       "      <td>0.28</td>\n",
       "    </tr>\n",
       "    <tr>\n",
       "      <th>6</th>\n",
       "      <td>5.4</td>\n",
       "      <td>3.9</td>\n",
       "      <td>1.7</td>\n",
       "      <td>0.4</td>\n",
       "      <td>Iris-setosa</td>\n",
       "      <td>0.68</td>\n",
       "    </tr>\n",
       "    <tr>\n",
       "      <th>7</th>\n",
       "      <td>4.6</td>\n",
       "      <td>3.4</td>\n",
       "      <td>1.4</td>\n",
       "      <td>0.3</td>\n",
       "      <td>Iris-setosa</td>\n",
       "      <td>0.42</td>\n",
       "    </tr>\n",
       "    <tr>\n",
       "      <th>8</th>\n",
       "      <td>5.0</td>\n",
       "      <td>3.4</td>\n",
       "      <td>1.5</td>\n",
       "      <td>0.2</td>\n",
       "      <td>Iris-setosa</td>\n",
       "      <td>0.30</td>\n",
       "    </tr>\n",
       "    <tr>\n",
       "      <th>9</th>\n",
       "      <td>4.4</td>\n",
       "      <td>2.9</td>\n",
       "      <td>1.4</td>\n",
       "      <td>0.2</td>\n",
       "      <td>Iris-setosa</td>\n",
       "      <td>0.28</td>\n",
       "    </tr>\n",
       "    <tr>\n",
       "      <th>10</th>\n",
       "      <td>4.9</td>\n",
       "      <td>3.1</td>\n",
       "      <td>1.5</td>\n",
       "      <td>0.1</td>\n",
       "      <td>Iris-setosa</td>\n",
       "      <td>0.15</td>\n",
       "    </tr>\n",
       "    <tr>\n",
       "      <th>11</th>\n",
       "      <td>5.4</td>\n",
       "      <td>3.7</td>\n",
       "      <td>1.5</td>\n",
       "      <td>0.2</td>\n",
       "      <td>Iris-setosa</td>\n",
       "      <td>0.30</td>\n",
       "    </tr>\n",
       "    <tr>\n",
       "      <th>12</th>\n",
       "      <td>4.8</td>\n",
       "      <td>3.4</td>\n",
       "      <td>1.6</td>\n",
       "      <td>0.2</td>\n",
       "      <td>Iris-setosa</td>\n",
       "      <td>0.32</td>\n",
       "    </tr>\n",
       "    <tr>\n",
       "      <th>13</th>\n",
       "      <td>4.8</td>\n",
       "      <td>3.0</td>\n",
       "      <td>1.4</td>\n",
       "      <td>0.1</td>\n",
       "      <td>Iris-setosa</td>\n",
       "      <td>0.14</td>\n",
       "    </tr>\n",
       "    <tr>\n",
       "      <th>14</th>\n",
       "      <td>4.3</td>\n",
       "      <td>3.0</td>\n",
       "      <td>1.1</td>\n",
       "      <td>0.1</td>\n",
       "      <td>Iris-setosa</td>\n",
       "      <td>0.11</td>\n",
       "    </tr>\n",
       "    <tr>\n",
       "      <th>15</th>\n",
       "      <td>5.8</td>\n",
       "      <td>4.0</td>\n",
       "      <td>1.2</td>\n",
       "      <td>0.2</td>\n",
       "      <td>Iris-setosa</td>\n",
       "      <td>0.24</td>\n",
       "    </tr>\n",
       "    <tr>\n",
       "      <th>16</th>\n",
       "      <td>5.7</td>\n",
       "      <td>4.4</td>\n",
       "      <td>1.5</td>\n",
       "      <td>0.4</td>\n",
       "      <td>Iris-setosa</td>\n",
       "      <td>0.60</td>\n",
       "    </tr>\n",
       "    <tr>\n",
       "      <th>17</th>\n",
       "      <td>5.4</td>\n",
       "      <td>3.9</td>\n",
       "      <td>1.3</td>\n",
       "      <td>0.4</td>\n",
       "      <td>Iris-setosa</td>\n",
       "      <td>0.52</td>\n",
       "    </tr>\n",
       "    <tr>\n",
       "      <th>18</th>\n",
       "      <td>5.1</td>\n",
       "      <td>3.5</td>\n",
       "      <td>1.4</td>\n",
       "      <td>0.3</td>\n",
       "      <td>Iris-setosa</td>\n",
       "      <td>0.42</td>\n",
       "    </tr>\n",
       "    <tr>\n",
       "      <th>19</th>\n",
       "      <td>5.7</td>\n",
       "      <td>3.8</td>\n",
       "      <td>1.7</td>\n",
       "      <td>0.3</td>\n",
       "      <td>Iris-setosa</td>\n",
       "      <td>0.51</td>\n",
       "    </tr>\n",
       "    <tr>\n",
       "      <th>20</th>\n",
       "      <td>5.1</td>\n",
       "      <td>3.8</td>\n",
       "      <td>1.5</td>\n",
       "      <td>0.3</td>\n",
       "      <td>Iris-setosa</td>\n",
       "      <td>0.45</td>\n",
       "    </tr>\n",
       "    <tr>\n",
       "      <th>21</th>\n",
       "      <td>5.4</td>\n",
       "      <td>3.4</td>\n",
       "      <td>1.7</td>\n",
       "      <td>0.2</td>\n",
       "      <td>Iris-setosa</td>\n",
       "      <td>0.34</td>\n",
       "    </tr>\n",
       "    <tr>\n",
       "      <th>22</th>\n",
       "      <td>5.1</td>\n",
       "      <td>3.7</td>\n",
       "      <td>1.5</td>\n",
       "      <td>0.4</td>\n",
       "      <td>Iris-setosa</td>\n",
       "      <td>0.60</td>\n",
       "    </tr>\n",
       "    <tr>\n",
       "      <th>23</th>\n",
       "      <td>4.6</td>\n",
       "      <td>3.6</td>\n",
       "      <td>1.0</td>\n",
       "      <td>0.2</td>\n",
       "      <td>Iris-setosa</td>\n",
       "      <td>0.20</td>\n",
       "    </tr>\n",
       "    <tr>\n",
       "      <th>24</th>\n",
       "      <td>5.1</td>\n",
       "      <td>3.3</td>\n",
       "      <td>1.7</td>\n",
       "      <td>0.5</td>\n",
       "      <td>Iris-setosa</td>\n",
       "      <td>0.85</td>\n",
       "    </tr>\n",
       "    <tr>\n",
       "      <th>25</th>\n",
       "      <td>4.8</td>\n",
       "      <td>3.4</td>\n",
       "      <td>1.9</td>\n",
       "      <td>0.2</td>\n",
       "      <td>Iris-setosa</td>\n",
       "      <td>0.38</td>\n",
       "    </tr>\n",
       "    <tr>\n",
       "      <th>26</th>\n",
       "      <td>5.0</td>\n",
       "      <td>3.0</td>\n",
       "      <td>1.6</td>\n",
       "      <td>0.2</td>\n",
       "      <td>Iris-setosa</td>\n",
       "      <td>0.32</td>\n",
       "    </tr>\n",
       "    <tr>\n",
       "      <th>27</th>\n",
       "      <td>5.0</td>\n",
       "      <td>3.4</td>\n",
       "      <td>1.6</td>\n",
       "      <td>0.4</td>\n",
       "      <td>Iris-setosa</td>\n",
       "      <td>0.64</td>\n",
       "    </tr>\n",
       "    <tr>\n",
       "      <th>28</th>\n",
       "      <td>5.2</td>\n",
       "      <td>3.5</td>\n",
       "      <td>1.5</td>\n",
       "      <td>0.2</td>\n",
       "      <td>Iris-setosa</td>\n",
       "      <td>0.30</td>\n",
       "    </tr>\n",
       "    <tr>\n",
       "      <th>29</th>\n",
       "      <td>5.2</td>\n",
       "      <td>3.4</td>\n",
       "      <td>1.4</td>\n",
       "      <td>0.2</td>\n",
       "      <td>Iris-setosa</td>\n",
       "      <td>0.28</td>\n",
       "    </tr>\n",
       "    <tr>\n",
       "      <th>30</th>\n",
       "      <td>4.7</td>\n",
       "      <td>3.2</td>\n",
       "      <td>1.6</td>\n",
       "      <td>0.2</td>\n",
       "      <td>Iris-setosa</td>\n",
       "      <td>0.32</td>\n",
       "    </tr>\n",
       "    <tr>\n",
       "      <th>31</th>\n",
       "      <td>4.8</td>\n",
       "      <td>3.1</td>\n",
       "      <td>1.6</td>\n",
       "      <td>0.2</td>\n",
       "      <td>Iris-setosa</td>\n",
       "      <td>0.32</td>\n",
       "    </tr>\n",
       "    <tr>\n",
       "      <th>32</th>\n",
       "      <td>5.4</td>\n",
       "      <td>3.4</td>\n",
       "      <td>1.5</td>\n",
       "      <td>0.4</td>\n",
       "      <td>Iris-setosa</td>\n",
       "      <td>0.60</td>\n",
       "    </tr>\n",
       "    <tr>\n",
       "      <th>33</th>\n",
       "      <td>5.2</td>\n",
       "      <td>4.1</td>\n",
       "      <td>1.5</td>\n",
       "      <td>0.1</td>\n",
       "      <td>Iris-setosa</td>\n",
       "      <td>0.15</td>\n",
       "    </tr>\n",
       "    <tr>\n",
       "      <th>34</th>\n",
       "      <td>5.5</td>\n",
       "      <td>4.2</td>\n",
       "      <td>1.4</td>\n",
       "      <td>0.2</td>\n",
       "      <td>Iris-setosa</td>\n",
       "      <td>0.28</td>\n",
       "    </tr>\n",
       "    <tr>\n",
       "      <th>35</th>\n",
       "      <td>4.9</td>\n",
       "      <td>3.1</td>\n",
       "      <td>1.5</td>\n",
       "      <td>0.1</td>\n",
       "      <td>Iris-setosa</td>\n",
       "      <td>0.15</td>\n",
       "    </tr>\n",
       "    <tr>\n",
       "      <th>36</th>\n",
       "      <td>5.0</td>\n",
       "      <td>3.2</td>\n",
       "      <td>1.2</td>\n",
       "      <td>0.2</td>\n",
       "      <td>Iris-setosa</td>\n",
       "      <td>0.24</td>\n",
       "    </tr>\n",
       "    <tr>\n",
       "      <th>37</th>\n",
       "      <td>5.5</td>\n",
       "      <td>3.5</td>\n",
       "      <td>1.3</td>\n",
       "      <td>0.2</td>\n",
       "      <td>Iris-setosa</td>\n",
       "      <td>0.26</td>\n",
       "    </tr>\n",
       "    <tr>\n",
       "      <th>38</th>\n",
       "      <td>4.9</td>\n",
       "      <td>3.1</td>\n",
       "      <td>1.5</td>\n",
       "      <td>0.1</td>\n",
       "      <td>Iris-setosa</td>\n",
       "      <td>0.15</td>\n",
       "    </tr>\n",
       "    <tr>\n",
       "      <th>39</th>\n",
       "      <td>4.4</td>\n",
       "      <td>3.0</td>\n",
       "      <td>1.3</td>\n",
       "      <td>0.2</td>\n",
       "      <td>Iris-setosa</td>\n",
       "      <td>0.26</td>\n",
       "    </tr>\n",
       "    <tr>\n",
       "      <th>40</th>\n",
       "      <td>5.1</td>\n",
       "      <td>3.4</td>\n",
       "      <td>1.5</td>\n",
       "      <td>0.2</td>\n",
       "      <td>Iris-setosa</td>\n",
       "      <td>0.30</td>\n",
       "    </tr>\n",
       "    <tr>\n",
       "      <th>41</th>\n",
       "      <td>5.0</td>\n",
       "      <td>3.5</td>\n",
       "      <td>1.3</td>\n",
       "      <td>0.3</td>\n",
       "      <td>Iris-setosa</td>\n",
       "      <td>0.39</td>\n",
       "    </tr>\n",
       "    <tr>\n",
       "      <th>42</th>\n",
       "      <td>4.5</td>\n",
       "      <td>2.3</td>\n",
       "      <td>1.3</td>\n",
       "      <td>0.3</td>\n",
       "      <td>Iris-setosa</td>\n",
       "      <td>0.39</td>\n",
       "    </tr>\n",
       "    <tr>\n",
       "      <th>43</th>\n",
       "      <td>4.4</td>\n",
       "      <td>3.2</td>\n",
       "      <td>1.3</td>\n",
       "      <td>0.2</td>\n",
       "      <td>Iris-setosa</td>\n",
       "      <td>0.26</td>\n",
       "    </tr>\n",
       "    <tr>\n",
       "      <th>44</th>\n",
       "      <td>5.0</td>\n",
       "      <td>3.5</td>\n",
       "      <td>1.6</td>\n",
       "      <td>0.6</td>\n",
       "      <td>Iris-setosa</td>\n",
       "      <td>0.96</td>\n",
       "    </tr>\n",
       "    <tr>\n",
       "      <th>45</th>\n",
       "      <td>5.1</td>\n",
       "      <td>3.8</td>\n",
       "      <td>1.9</td>\n",
       "      <td>0.4</td>\n",
       "      <td>Iris-setosa</td>\n",
       "      <td>0.76</td>\n",
       "    </tr>\n",
       "    <tr>\n",
       "      <th>46</th>\n",
       "      <td>4.8</td>\n",
       "      <td>3.0</td>\n",
       "      <td>1.4</td>\n",
       "      <td>0.3</td>\n",
       "      <td>Iris-setosa</td>\n",
       "      <td>0.42</td>\n",
       "    </tr>\n",
       "    <tr>\n",
       "      <th>47</th>\n",
       "      <td>5.1</td>\n",
       "      <td>3.8</td>\n",
       "      <td>1.6</td>\n",
       "      <td>0.2</td>\n",
       "      <td>Iris-setosa</td>\n",
       "      <td>0.32</td>\n",
       "    </tr>\n",
       "    <tr>\n",
       "      <th>48</th>\n",
       "      <td>4.6</td>\n",
       "      <td>3.2</td>\n",
       "      <td>1.4</td>\n",
       "      <td>0.2</td>\n",
       "      <td>Iris-setosa</td>\n",
       "      <td>0.28</td>\n",
       "    </tr>\n",
       "    <tr>\n",
       "      <th>49</th>\n",
       "      <td>5.3</td>\n",
       "      <td>3.7</td>\n",
       "      <td>1.5</td>\n",
       "      <td>0.2</td>\n",
       "      <td>Iris-setosa</td>\n",
       "      <td>0.30</td>\n",
       "    </tr>\n",
       "    <tr>\n",
       "      <th>50</th>\n",
       "      <td>5.0</td>\n",
       "      <td>3.3</td>\n",
       "      <td>1.4</td>\n",
       "      <td>0.2</td>\n",
       "      <td>Iris-setosa</td>\n",
       "      <td>0.28</td>\n",
       "    </tr>\n",
       "  </tbody>\n",
       "</table>\n",
       "</div>"
      ],
      "text/plain": [
       "    SepalLengthCm  SepalWidthCm  PetalLengthCm  PetalWidthCm      Species  \\\n",
       "Id                                                                          \n",
       "1             5.1           3.5            1.4           0.2  Iris-setosa   \n",
       "2             4.9           3.0            1.4           0.2  Iris-setosa   \n",
       "3             4.7           3.2            1.3           0.2  Iris-setosa   \n",
       "4             4.6           3.1            1.5           0.2  Iris-setosa   \n",
       "5             5.0           3.6            1.4           0.2  Iris-setosa   \n",
       "6             5.4           3.9            1.7           0.4  Iris-setosa   \n",
       "7             4.6           3.4            1.4           0.3  Iris-setosa   \n",
       "8             5.0           3.4            1.5           0.2  Iris-setosa   \n",
       "9             4.4           2.9            1.4           0.2  Iris-setosa   \n",
       "10            4.9           3.1            1.5           0.1  Iris-setosa   \n",
       "11            5.4           3.7            1.5           0.2  Iris-setosa   \n",
       "12            4.8           3.4            1.6           0.2  Iris-setosa   \n",
       "13            4.8           3.0            1.4           0.1  Iris-setosa   \n",
       "14            4.3           3.0            1.1           0.1  Iris-setosa   \n",
       "15            5.8           4.0            1.2           0.2  Iris-setosa   \n",
       "16            5.7           4.4            1.5           0.4  Iris-setosa   \n",
       "17            5.4           3.9            1.3           0.4  Iris-setosa   \n",
       "18            5.1           3.5            1.4           0.3  Iris-setosa   \n",
       "19            5.7           3.8            1.7           0.3  Iris-setosa   \n",
       "20            5.1           3.8            1.5           0.3  Iris-setosa   \n",
       "21            5.4           3.4            1.7           0.2  Iris-setosa   \n",
       "22            5.1           3.7            1.5           0.4  Iris-setosa   \n",
       "23            4.6           3.6            1.0           0.2  Iris-setosa   \n",
       "24            5.1           3.3            1.7           0.5  Iris-setosa   \n",
       "25            4.8           3.4            1.9           0.2  Iris-setosa   \n",
       "26            5.0           3.0            1.6           0.2  Iris-setosa   \n",
       "27            5.0           3.4            1.6           0.4  Iris-setosa   \n",
       "28            5.2           3.5            1.5           0.2  Iris-setosa   \n",
       "29            5.2           3.4            1.4           0.2  Iris-setosa   \n",
       "30            4.7           3.2            1.6           0.2  Iris-setosa   \n",
       "31            4.8           3.1            1.6           0.2  Iris-setosa   \n",
       "32            5.4           3.4            1.5           0.4  Iris-setosa   \n",
       "33            5.2           4.1            1.5           0.1  Iris-setosa   \n",
       "34            5.5           4.2            1.4           0.2  Iris-setosa   \n",
       "35            4.9           3.1            1.5           0.1  Iris-setosa   \n",
       "36            5.0           3.2            1.2           0.2  Iris-setosa   \n",
       "37            5.5           3.5            1.3           0.2  Iris-setosa   \n",
       "38            4.9           3.1            1.5           0.1  Iris-setosa   \n",
       "39            4.4           3.0            1.3           0.2  Iris-setosa   \n",
       "40            5.1           3.4            1.5           0.2  Iris-setosa   \n",
       "41            5.0           3.5            1.3           0.3  Iris-setosa   \n",
       "42            4.5           2.3            1.3           0.3  Iris-setosa   \n",
       "43            4.4           3.2            1.3           0.2  Iris-setosa   \n",
       "44            5.0           3.5            1.6           0.6  Iris-setosa   \n",
       "45            5.1           3.8            1.9           0.4  Iris-setosa   \n",
       "46            4.8           3.0            1.4           0.3  Iris-setosa   \n",
       "47            5.1           3.8            1.6           0.2  Iris-setosa   \n",
       "48            4.6           3.2            1.4           0.2  Iris-setosa   \n",
       "49            5.3           3.7            1.5           0.2  Iris-setosa   \n",
       "50            5.0           3.3            1.4           0.2  Iris-setosa   \n",
       "\n",
       "    PetalAreaCm  \n",
       "Id               \n",
       "1          0.28  \n",
       "2          0.28  \n",
       "3          0.26  \n",
       "4          0.30  \n",
       "5          0.28  \n",
       "6          0.68  \n",
       "7          0.42  \n",
       "8          0.30  \n",
       "9          0.28  \n",
       "10         0.15  \n",
       "11         0.30  \n",
       "12         0.32  \n",
       "13         0.14  \n",
       "14         0.11  \n",
       "15         0.24  \n",
       "16         0.60  \n",
       "17         0.52  \n",
       "18         0.42  \n",
       "19         0.51  \n",
       "20         0.45  \n",
       "21         0.34  \n",
       "22         0.60  \n",
       "23         0.20  \n",
       "24         0.85  \n",
       "25         0.38  \n",
       "26         0.32  \n",
       "27         0.64  \n",
       "28         0.30  \n",
       "29         0.28  \n",
       "30         0.32  \n",
       "31         0.32  \n",
       "32         0.60  \n",
       "33         0.15  \n",
       "34         0.28  \n",
       "35         0.15  \n",
       "36         0.24  \n",
       "37         0.26  \n",
       "38         0.15  \n",
       "39         0.26  \n",
       "40         0.30  \n",
       "41         0.39  \n",
       "42         0.39  \n",
       "43         0.26  \n",
       "44         0.96  \n",
       "45         0.76  \n",
       "46         0.42  \n",
       "47         0.32  \n",
       "48         0.28  \n",
       "49         0.30  \n",
       "50         0.28  "
      ]
     },
     "execution_count": 56,
     "metadata": {},
     "output_type": "execute_result"
    }
   ],
   "source": [
    "df[df['Species'] == 'Iris-setosa']"
   ]
  },
  {
   "cell_type": "markdown",
   "metadata": {},
   "source": [
    "## # Selecionar linhas com base em múltiplas condições"
   ]
  },
  {
   "cell_type": "code",
   "execution_count": 58,
   "metadata": {},
   "outputs": [
    {
     "data": {
      "application/vnd.microsoft.datawrangler.viewer.v0+json": {
       "columns": [
        {
         "name": "Id",
         "rawType": "int64",
         "type": "integer"
        },
        {
         "name": "SepalLengthCm",
         "rawType": "float64",
         "type": "float"
        },
        {
         "name": "SepalWidthCm",
         "rawType": "float64",
         "type": "float"
        },
        {
         "name": "PetalLengthCm",
         "rawType": "float64",
         "type": "float"
        },
        {
         "name": "PetalWidthCm",
         "rawType": "float64",
         "type": "float"
        },
        {
         "name": "Species",
         "rawType": "object",
         "type": "string"
        },
        {
         "name": "PetalAreaCm",
         "rawType": "float64",
         "type": "float"
        }
       ],
       "conversionMethod": "pd.DataFrame",
       "ref": "7f692667-2138-4032-8223-60d8c22e271e",
       "rows": [
        [
         "6",
         "5.4",
         "3.9",
         "1.7",
         "0.4",
         "Iris-setosa",
         "0.68"
        ],
        [
         "7",
         "4.6",
         "3.4",
         "1.4",
         "0.3",
         "Iris-setosa",
         "0.42"
        ],
        [
         "16",
         "5.7",
         "4.4",
         "1.5",
         "0.4",
         "Iris-setosa",
         "0.6"
        ],
        [
         "17",
         "5.4",
         "3.9",
         "1.3",
         "0.4",
         "Iris-setosa",
         "0.52"
        ],
        [
         "18",
         "5.1",
         "3.5",
         "1.4",
         "0.3",
         "Iris-setosa",
         "0.42"
        ],
        [
         "19",
         "5.7",
         "3.8",
         "1.7",
         "0.3",
         "Iris-setosa",
         "0.51"
        ],
        [
         "20",
         "5.1",
         "3.8",
         "1.5",
         "0.3",
         "Iris-setosa",
         "0.45"
        ],
        [
         "22",
         "5.1",
         "3.7",
         "1.5",
         "0.4",
         "Iris-setosa",
         "0.6"
        ],
        [
         "24",
         "5.1",
         "3.3",
         "1.7",
         "0.5",
         "Iris-setosa",
         "0.85"
        ],
        [
         "27",
         "5.0",
         "3.4",
         "1.6",
         "0.4",
         "Iris-setosa",
         "0.64"
        ],
        [
         "32",
         "5.4",
         "3.4",
         "1.5",
         "0.4",
         "Iris-setosa",
         "0.6"
        ],
        [
         "41",
         "5.0",
         "3.5",
         "1.3",
         "0.3",
         "Iris-setosa",
         "0.39"
        ],
        [
         "42",
         "4.5",
         "2.3",
         "1.3",
         "0.3",
         "Iris-setosa",
         "0.39"
        ],
        [
         "44",
         "5.0",
         "3.5",
         "1.6",
         "0.6",
         "Iris-setosa",
         "0.96"
        ],
        [
         "45",
         "5.1",
         "3.8",
         "1.9",
         "0.4",
         "Iris-setosa",
         "0.76"
        ],
        [
         "46",
         "4.8",
         "3.0",
         "1.4",
         "0.3",
         "Iris-setosa",
         "0.42"
        ]
       ],
       "shape": {
        "columns": 6,
        "rows": 16
       }
      },
      "text/html": [
       "<div>\n",
       "<style scoped>\n",
       "    .dataframe tbody tr th:only-of-type {\n",
       "        vertical-align: middle;\n",
       "    }\n",
       "\n",
       "    .dataframe tbody tr th {\n",
       "        vertical-align: top;\n",
       "    }\n",
       "\n",
       "    .dataframe thead th {\n",
       "        text-align: right;\n",
       "    }\n",
       "</style>\n",
       "<table border=\"1\" class=\"dataframe\">\n",
       "  <thead>\n",
       "    <tr style=\"text-align: right;\">\n",
       "      <th></th>\n",
       "      <th>SepalLengthCm</th>\n",
       "      <th>SepalWidthCm</th>\n",
       "      <th>PetalLengthCm</th>\n",
       "      <th>PetalWidthCm</th>\n",
       "      <th>Species</th>\n",
       "      <th>PetalAreaCm</th>\n",
       "    </tr>\n",
       "    <tr>\n",
       "      <th>Id</th>\n",
       "      <th></th>\n",
       "      <th></th>\n",
       "      <th></th>\n",
       "      <th></th>\n",
       "      <th></th>\n",
       "      <th></th>\n",
       "    </tr>\n",
       "  </thead>\n",
       "  <tbody>\n",
       "    <tr>\n",
       "      <th>6</th>\n",
       "      <td>5.4</td>\n",
       "      <td>3.9</td>\n",
       "      <td>1.7</td>\n",
       "      <td>0.4</td>\n",
       "      <td>Iris-setosa</td>\n",
       "      <td>0.68</td>\n",
       "    </tr>\n",
       "    <tr>\n",
       "      <th>7</th>\n",
       "      <td>4.6</td>\n",
       "      <td>3.4</td>\n",
       "      <td>1.4</td>\n",
       "      <td>0.3</td>\n",
       "      <td>Iris-setosa</td>\n",
       "      <td>0.42</td>\n",
       "    </tr>\n",
       "    <tr>\n",
       "      <th>16</th>\n",
       "      <td>5.7</td>\n",
       "      <td>4.4</td>\n",
       "      <td>1.5</td>\n",
       "      <td>0.4</td>\n",
       "      <td>Iris-setosa</td>\n",
       "      <td>0.60</td>\n",
       "    </tr>\n",
       "    <tr>\n",
       "      <th>17</th>\n",
       "      <td>5.4</td>\n",
       "      <td>3.9</td>\n",
       "      <td>1.3</td>\n",
       "      <td>0.4</td>\n",
       "      <td>Iris-setosa</td>\n",
       "      <td>0.52</td>\n",
       "    </tr>\n",
       "    <tr>\n",
       "      <th>18</th>\n",
       "      <td>5.1</td>\n",
       "      <td>3.5</td>\n",
       "      <td>1.4</td>\n",
       "      <td>0.3</td>\n",
       "      <td>Iris-setosa</td>\n",
       "      <td>0.42</td>\n",
       "    </tr>\n",
       "    <tr>\n",
       "      <th>19</th>\n",
       "      <td>5.7</td>\n",
       "      <td>3.8</td>\n",
       "      <td>1.7</td>\n",
       "      <td>0.3</td>\n",
       "      <td>Iris-setosa</td>\n",
       "      <td>0.51</td>\n",
       "    </tr>\n",
       "    <tr>\n",
       "      <th>20</th>\n",
       "      <td>5.1</td>\n",
       "      <td>3.8</td>\n",
       "      <td>1.5</td>\n",
       "      <td>0.3</td>\n",
       "      <td>Iris-setosa</td>\n",
       "      <td>0.45</td>\n",
       "    </tr>\n",
       "    <tr>\n",
       "      <th>22</th>\n",
       "      <td>5.1</td>\n",
       "      <td>3.7</td>\n",
       "      <td>1.5</td>\n",
       "      <td>0.4</td>\n",
       "      <td>Iris-setosa</td>\n",
       "      <td>0.60</td>\n",
       "    </tr>\n",
       "    <tr>\n",
       "      <th>24</th>\n",
       "      <td>5.1</td>\n",
       "      <td>3.3</td>\n",
       "      <td>1.7</td>\n",
       "      <td>0.5</td>\n",
       "      <td>Iris-setosa</td>\n",
       "      <td>0.85</td>\n",
       "    </tr>\n",
       "    <tr>\n",
       "      <th>27</th>\n",
       "      <td>5.0</td>\n",
       "      <td>3.4</td>\n",
       "      <td>1.6</td>\n",
       "      <td>0.4</td>\n",
       "      <td>Iris-setosa</td>\n",
       "      <td>0.64</td>\n",
       "    </tr>\n",
       "    <tr>\n",
       "      <th>32</th>\n",
       "      <td>5.4</td>\n",
       "      <td>3.4</td>\n",
       "      <td>1.5</td>\n",
       "      <td>0.4</td>\n",
       "      <td>Iris-setosa</td>\n",
       "      <td>0.60</td>\n",
       "    </tr>\n",
       "    <tr>\n",
       "      <th>41</th>\n",
       "      <td>5.0</td>\n",
       "      <td>3.5</td>\n",
       "      <td>1.3</td>\n",
       "      <td>0.3</td>\n",
       "      <td>Iris-setosa</td>\n",
       "      <td>0.39</td>\n",
       "    </tr>\n",
       "    <tr>\n",
       "      <th>42</th>\n",
       "      <td>4.5</td>\n",
       "      <td>2.3</td>\n",
       "      <td>1.3</td>\n",
       "      <td>0.3</td>\n",
       "      <td>Iris-setosa</td>\n",
       "      <td>0.39</td>\n",
       "    </tr>\n",
       "    <tr>\n",
       "      <th>44</th>\n",
       "      <td>5.0</td>\n",
       "      <td>3.5</td>\n",
       "      <td>1.6</td>\n",
       "      <td>0.6</td>\n",
       "      <td>Iris-setosa</td>\n",
       "      <td>0.96</td>\n",
       "    </tr>\n",
       "    <tr>\n",
       "      <th>45</th>\n",
       "      <td>5.1</td>\n",
       "      <td>3.8</td>\n",
       "      <td>1.9</td>\n",
       "      <td>0.4</td>\n",
       "      <td>Iris-setosa</td>\n",
       "      <td>0.76</td>\n",
       "    </tr>\n",
       "    <tr>\n",
       "      <th>46</th>\n",
       "      <td>4.8</td>\n",
       "      <td>3.0</td>\n",
       "      <td>1.4</td>\n",
       "      <td>0.3</td>\n",
       "      <td>Iris-setosa</td>\n",
       "      <td>0.42</td>\n",
       "    </tr>\n",
       "  </tbody>\n",
       "</table>\n",
       "</div>"
      ],
      "text/plain": [
       "    SepalLengthCm  SepalWidthCm  PetalLengthCm  PetalWidthCm      Species  \\\n",
       "Id                                                                          \n",
       "6             5.4           3.9            1.7           0.4  Iris-setosa   \n",
       "7             4.6           3.4            1.4           0.3  Iris-setosa   \n",
       "16            5.7           4.4            1.5           0.4  Iris-setosa   \n",
       "17            5.4           3.9            1.3           0.4  Iris-setosa   \n",
       "18            5.1           3.5            1.4           0.3  Iris-setosa   \n",
       "19            5.7           3.8            1.7           0.3  Iris-setosa   \n",
       "20            5.1           3.8            1.5           0.3  Iris-setosa   \n",
       "22            5.1           3.7            1.5           0.4  Iris-setosa   \n",
       "24            5.1           3.3            1.7           0.5  Iris-setosa   \n",
       "27            5.0           3.4            1.6           0.4  Iris-setosa   \n",
       "32            5.4           3.4            1.5           0.4  Iris-setosa   \n",
       "41            5.0           3.5            1.3           0.3  Iris-setosa   \n",
       "42            4.5           2.3            1.3           0.3  Iris-setosa   \n",
       "44            5.0           3.5            1.6           0.6  Iris-setosa   \n",
       "45            5.1           3.8            1.9           0.4  Iris-setosa   \n",
       "46            4.8           3.0            1.4           0.3  Iris-setosa   \n",
       "\n",
       "    PetalAreaCm  \n",
       "Id               \n",
       "6          0.68  \n",
       "7          0.42  \n",
       "16         0.60  \n",
       "17         0.52  \n",
       "18         0.42  \n",
       "19         0.51  \n",
       "20         0.45  \n",
       "22         0.60  \n",
       "24         0.85  \n",
       "27         0.64  \n",
       "32         0.60  \n",
       "41         0.39  \n",
       "42         0.39  \n",
       "44         0.96  \n",
       "45         0.76  \n",
       "46         0.42  "
      ]
     },
     "execution_count": 58,
     "metadata": {},
     "output_type": "execute_result"
    }
   ],
   "source": [
    "df[(df['Species'] == 'Iris-setosa') & (df['PetalWidthCm'] >= 0.3)]"
   ]
  }
 ],
 "metadata": {
  "kernelspec": {
   "display_name": "Python 3",
   "language": "python",
   "name": "python3"
  },
  "language_info": {
   "codemirror_mode": {
    "name": "ipython",
    "version": 3
   },
   "file_extension": ".py",
   "mimetype": "text/x-python",
   "name": "python",
   "nbconvert_exporter": "python",
   "pygments_lexer": "ipython3",
   "version": "3.13.2"
  }
 },
 "nbformat": 4,
 "nbformat_minor": 2
}
