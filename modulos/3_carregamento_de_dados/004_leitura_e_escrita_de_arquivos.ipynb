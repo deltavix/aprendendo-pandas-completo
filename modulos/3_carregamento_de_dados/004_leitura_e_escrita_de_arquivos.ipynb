{
 "cells": [
  {
   "cell_type": "markdown",
   "metadata": {},
   "source": [
    "# # Importando o Pandas"
   ]
  },
  {
   "cell_type": "code",
   "execution_count": 30,
   "metadata": {},
   "outputs": [],
   "source": [
    "import pandas as pd"
   ]
  },
  {
   "cell_type": "markdown",
   "metadata": {},
   "source": [
    "# # Importando dados de arquivo CSV"
   ]
  },
  {
   "cell_type": "code",
   "execution_count": 31,
   "metadata": {},
   "outputs": [],
   "source": [
    "df_1 = pd.read_csv('../../datasets/iris/Iris.csv')"
   ]
  },
  {
   "cell_type": "markdown",
   "metadata": {},
   "source": [
    "## # Explorando dados"
   ]
  },
  {
   "cell_type": "code",
   "execution_count": 32,
   "metadata": {},
   "outputs": [
    {
     "data": {
      "application/vnd.microsoft.datawrangler.viewer.v0+json": {
       "columns": [
        {
         "name": "index",
         "rawType": "int64",
         "type": "integer"
        },
        {
         "name": "Id",
         "rawType": "int64",
         "type": "integer"
        },
        {
         "name": "SepalLengthCm",
         "rawType": "float64",
         "type": "float"
        },
        {
         "name": "SepalWidthCm",
         "rawType": "float64",
         "type": "float"
        },
        {
         "name": "PetalLengthCm",
         "rawType": "float64",
         "type": "float"
        },
        {
         "name": "PetalWidthCm",
         "rawType": "float64",
         "type": "float"
        },
        {
         "name": "Species",
         "rawType": "object",
         "type": "string"
        }
       ],
       "conversionMethod": "pd.DataFrame",
       "ref": "b0c44764-fe64-4f09-afc0-28b787206859",
       "rows": [
        [
         "0",
         "1",
         "5.1",
         "3.5",
         "1.4",
         "0.2",
         "Iris-setosa"
        ],
        [
         "1",
         "2",
         "4.9",
         "3.0",
         "1.4",
         "0.2",
         "Iris-setosa"
        ],
        [
         "2",
         "3",
         "4.7",
         "3.2",
         "1.3",
         "0.2",
         "Iris-setosa"
        ],
        [
         "3",
         "4",
         "4.6",
         "3.1",
         "1.5",
         "0.2",
         "Iris-setosa"
        ],
        [
         "4",
         "5",
         "5.0",
         "3.6",
         "1.4",
         "0.2",
         "Iris-setosa"
        ],
        [
         "5",
         "6",
         "5.4",
         "3.9",
         "1.7",
         "0.4",
         "Iris-setosa"
        ],
        [
         "6",
         "7",
         "4.6",
         "3.4",
         "1.4",
         "0.3",
         "Iris-setosa"
        ],
        [
         "7",
         "8",
         "5.0",
         "3.4",
         "1.5",
         "0.2",
         "Iris-setosa"
        ],
        [
         "8",
         "9",
         "4.4",
         "2.9",
         "1.4",
         "0.2",
         "Iris-setosa"
        ],
        [
         "9",
         "10",
         "4.9",
         "3.1",
         "1.5",
         "0.1",
         "Iris-setosa"
        ]
       ],
       "shape": {
        "columns": 6,
        "rows": 10
       }
      },
      "text/html": [
       "<div>\n",
       "<style scoped>\n",
       "    .dataframe tbody tr th:only-of-type {\n",
       "        vertical-align: middle;\n",
       "    }\n",
       "\n",
       "    .dataframe tbody tr th {\n",
       "        vertical-align: top;\n",
       "    }\n",
       "\n",
       "    .dataframe thead th {\n",
       "        text-align: right;\n",
       "    }\n",
       "</style>\n",
       "<table border=\"1\" class=\"dataframe\">\n",
       "  <thead>\n",
       "    <tr style=\"text-align: right;\">\n",
       "      <th></th>\n",
       "      <th>Id</th>\n",
       "      <th>SepalLengthCm</th>\n",
       "      <th>SepalWidthCm</th>\n",
       "      <th>PetalLengthCm</th>\n",
       "      <th>PetalWidthCm</th>\n",
       "      <th>Species</th>\n",
       "    </tr>\n",
       "  </thead>\n",
       "  <tbody>\n",
       "    <tr>\n",
       "      <th>0</th>\n",
       "      <td>1</td>\n",
       "      <td>5.1</td>\n",
       "      <td>3.5</td>\n",
       "      <td>1.4</td>\n",
       "      <td>0.2</td>\n",
       "      <td>Iris-setosa</td>\n",
       "    </tr>\n",
       "    <tr>\n",
       "      <th>1</th>\n",
       "      <td>2</td>\n",
       "      <td>4.9</td>\n",
       "      <td>3.0</td>\n",
       "      <td>1.4</td>\n",
       "      <td>0.2</td>\n",
       "      <td>Iris-setosa</td>\n",
       "    </tr>\n",
       "    <tr>\n",
       "      <th>2</th>\n",
       "      <td>3</td>\n",
       "      <td>4.7</td>\n",
       "      <td>3.2</td>\n",
       "      <td>1.3</td>\n",
       "      <td>0.2</td>\n",
       "      <td>Iris-setosa</td>\n",
       "    </tr>\n",
       "    <tr>\n",
       "      <th>3</th>\n",
       "      <td>4</td>\n",
       "      <td>4.6</td>\n",
       "      <td>3.1</td>\n",
       "      <td>1.5</td>\n",
       "      <td>0.2</td>\n",
       "      <td>Iris-setosa</td>\n",
       "    </tr>\n",
       "    <tr>\n",
       "      <th>4</th>\n",
       "      <td>5</td>\n",
       "      <td>5.0</td>\n",
       "      <td>3.6</td>\n",
       "      <td>1.4</td>\n",
       "      <td>0.2</td>\n",
       "      <td>Iris-setosa</td>\n",
       "    </tr>\n",
       "    <tr>\n",
       "      <th>5</th>\n",
       "      <td>6</td>\n",
       "      <td>5.4</td>\n",
       "      <td>3.9</td>\n",
       "      <td>1.7</td>\n",
       "      <td>0.4</td>\n",
       "      <td>Iris-setosa</td>\n",
       "    </tr>\n",
       "    <tr>\n",
       "      <th>6</th>\n",
       "      <td>7</td>\n",
       "      <td>4.6</td>\n",
       "      <td>3.4</td>\n",
       "      <td>1.4</td>\n",
       "      <td>0.3</td>\n",
       "      <td>Iris-setosa</td>\n",
       "    </tr>\n",
       "    <tr>\n",
       "      <th>7</th>\n",
       "      <td>8</td>\n",
       "      <td>5.0</td>\n",
       "      <td>3.4</td>\n",
       "      <td>1.5</td>\n",
       "      <td>0.2</td>\n",
       "      <td>Iris-setosa</td>\n",
       "    </tr>\n",
       "    <tr>\n",
       "      <th>8</th>\n",
       "      <td>9</td>\n",
       "      <td>4.4</td>\n",
       "      <td>2.9</td>\n",
       "      <td>1.4</td>\n",
       "      <td>0.2</td>\n",
       "      <td>Iris-setosa</td>\n",
       "    </tr>\n",
       "    <tr>\n",
       "      <th>9</th>\n",
       "      <td>10</td>\n",
       "      <td>4.9</td>\n",
       "      <td>3.1</td>\n",
       "      <td>1.5</td>\n",
       "      <td>0.1</td>\n",
       "      <td>Iris-setosa</td>\n",
       "    </tr>\n",
       "  </tbody>\n",
       "</table>\n",
       "</div>"
      ],
      "text/plain": [
       "   Id  SepalLengthCm  SepalWidthCm  PetalLengthCm  PetalWidthCm      Species\n",
       "0   1            5.1           3.5            1.4           0.2  Iris-setosa\n",
       "1   2            4.9           3.0            1.4           0.2  Iris-setosa\n",
       "2   3            4.7           3.2            1.3           0.2  Iris-setosa\n",
       "3   4            4.6           3.1            1.5           0.2  Iris-setosa\n",
       "4   5            5.0           3.6            1.4           0.2  Iris-setosa\n",
       "5   6            5.4           3.9            1.7           0.4  Iris-setosa\n",
       "6   7            4.6           3.4            1.4           0.3  Iris-setosa\n",
       "7   8            5.0           3.4            1.5           0.2  Iris-setosa\n",
       "8   9            4.4           2.9            1.4           0.2  Iris-setosa\n",
       "9  10            4.9           3.1            1.5           0.1  Iris-setosa"
      ]
     },
     "execution_count": 32,
     "metadata": {},
     "output_type": "execute_result"
    }
   ],
   "source": [
    "df_1.head(10)"
   ]
  },
  {
   "cell_type": "code",
   "execution_count": 33,
   "metadata": {},
   "outputs": [
    {
     "name": "stdout",
     "output_type": "stream",
     "text": [
      "<class 'pandas.core.frame.DataFrame'>\n",
      "RangeIndex: 150 entries, 0 to 149\n",
      "Data columns (total 6 columns):\n",
      " #   Column         Non-Null Count  Dtype  \n",
      "---  ------         --------------  -----  \n",
      " 0   Id             150 non-null    int64  \n",
      " 1   SepalLengthCm  150 non-null    float64\n",
      " 2   SepalWidthCm   150 non-null    float64\n",
      " 3   PetalLengthCm  150 non-null    float64\n",
      " 4   PetalWidthCm   150 non-null    float64\n",
      " 5   Species        150 non-null    object \n",
      "dtypes: float64(4), int64(1), object(1)\n",
      "memory usage: 7.2+ KB\n"
     ]
    }
   ],
   "source": [
    "df_1.info()"
   ]
  },
  {
   "cell_type": "code",
   "execution_count": 34,
   "metadata": {},
   "outputs": [
    {
     "data": {
      "application/vnd.microsoft.datawrangler.viewer.v0+json": {
       "columns": [
        {
         "name": "index",
         "rawType": "object",
         "type": "string"
        },
        {
         "name": "SepalLengthCm",
         "rawType": "float64",
         "type": "float"
        },
        {
         "name": "SepalWidthCm",
         "rawType": "float64",
         "type": "float"
        },
        {
         "name": "PetalLengthCm",
         "rawType": "float64",
         "type": "float"
        },
        {
         "name": "PetalWidthCm",
         "rawType": "float64",
         "type": "float"
        }
       ],
       "conversionMethod": "pd.DataFrame",
       "ref": "59b6e1d3-d314-40de-bc29-0d82c4a1eb6a",
       "rows": [
        [
         "count",
         "150.0",
         "150.0",
         "150.0",
         "150.0"
        ],
        [
         "mean",
         "5.843333333333334",
         "3.0540000000000003",
         "3.758666666666666",
         "1.1986666666666668"
        ],
        [
         "std",
         "0.828066127977863",
         "0.4335943113621737",
         "1.7644204199522626",
         "0.7631607417008411"
        ],
        [
         "min",
         "4.3",
         "2.0",
         "1.0",
         "0.1"
        ],
        [
         "25%",
         "5.1",
         "2.8",
         "1.6",
         "0.3"
        ],
        [
         "50%",
         "5.8",
         "3.0",
         "4.35",
         "1.3"
        ],
        [
         "75%",
         "6.4",
         "3.3",
         "5.1",
         "1.8"
        ],
        [
         "max",
         "7.9",
         "4.4",
         "6.9",
         "2.5"
        ]
       ],
       "shape": {
        "columns": 4,
        "rows": 8
       }
      },
      "text/html": [
       "<div>\n",
       "<style scoped>\n",
       "    .dataframe tbody tr th:only-of-type {\n",
       "        vertical-align: middle;\n",
       "    }\n",
       "\n",
       "    .dataframe tbody tr th {\n",
       "        vertical-align: top;\n",
       "    }\n",
       "\n",
       "    .dataframe thead th {\n",
       "        text-align: right;\n",
       "    }\n",
       "</style>\n",
       "<table border=\"1\" class=\"dataframe\">\n",
       "  <thead>\n",
       "    <tr style=\"text-align: right;\">\n",
       "      <th></th>\n",
       "      <th>SepalLengthCm</th>\n",
       "      <th>SepalWidthCm</th>\n",
       "      <th>PetalLengthCm</th>\n",
       "      <th>PetalWidthCm</th>\n",
       "    </tr>\n",
       "  </thead>\n",
       "  <tbody>\n",
       "    <tr>\n",
       "      <th>count</th>\n",
       "      <td>150.000000</td>\n",
       "      <td>150.000000</td>\n",
       "      <td>150.000000</td>\n",
       "      <td>150.000000</td>\n",
       "    </tr>\n",
       "    <tr>\n",
       "      <th>mean</th>\n",
       "      <td>5.843333</td>\n",
       "      <td>3.054000</td>\n",
       "      <td>3.758667</td>\n",
       "      <td>1.198667</td>\n",
       "    </tr>\n",
       "    <tr>\n",
       "      <th>std</th>\n",
       "      <td>0.828066</td>\n",
       "      <td>0.433594</td>\n",
       "      <td>1.764420</td>\n",
       "      <td>0.763161</td>\n",
       "    </tr>\n",
       "    <tr>\n",
       "      <th>min</th>\n",
       "      <td>4.300000</td>\n",
       "      <td>2.000000</td>\n",
       "      <td>1.000000</td>\n",
       "      <td>0.100000</td>\n",
       "    </tr>\n",
       "    <tr>\n",
       "      <th>25%</th>\n",
       "      <td>5.100000</td>\n",
       "      <td>2.800000</td>\n",
       "      <td>1.600000</td>\n",
       "      <td>0.300000</td>\n",
       "    </tr>\n",
       "    <tr>\n",
       "      <th>50%</th>\n",
       "      <td>5.800000</td>\n",
       "      <td>3.000000</td>\n",
       "      <td>4.350000</td>\n",
       "      <td>1.300000</td>\n",
       "    </tr>\n",
       "    <tr>\n",
       "      <th>75%</th>\n",
       "      <td>6.400000</td>\n",
       "      <td>3.300000</td>\n",
       "      <td>5.100000</td>\n",
       "      <td>1.800000</td>\n",
       "    </tr>\n",
       "    <tr>\n",
       "      <th>max</th>\n",
       "      <td>7.900000</td>\n",
       "      <td>4.400000</td>\n",
       "      <td>6.900000</td>\n",
       "      <td>2.500000</td>\n",
       "    </tr>\n",
       "  </tbody>\n",
       "</table>\n",
       "</div>"
      ],
      "text/plain": [
       "       SepalLengthCm  SepalWidthCm  PetalLengthCm  PetalWidthCm\n",
       "count     150.000000    150.000000     150.000000    150.000000\n",
       "mean        5.843333      3.054000       3.758667      1.198667\n",
       "std         0.828066      0.433594       1.764420      0.763161\n",
       "min         4.300000      2.000000       1.000000      0.100000\n",
       "25%         5.100000      2.800000       1.600000      0.300000\n",
       "50%         5.800000      3.000000       4.350000      1.300000\n",
       "75%         6.400000      3.300000       5.100000      1.800000\n",
       "max         7.900000      4.400000       6.900000      2.500000"
      ]
     },
     "execution_count": 34,
     "metadata": {},
     "output_type": "execute_result"
    }
   ],
   "source": [
    "df_1.set_index('Id', inplace=True)\n",
    "df_1.describe()"
   ]
  },
  {
   "cell_type": "markdown",
   "metadata": {},
   "source": [
    "## # Criando coluna e escrevendo novo arquivo"
   ]
  },
  {
   "cell_type": "code",
   "execution_count": 41,
   "metadata": {},
   "outputs": [
    {
     "data": {
      "application/vnd.microsoft.datawrangler.viewer.v0+json": {
       "columns": [
        {
         "name": "Id",
         "rawType": "int64",
         "type": "integer"
        },
        {
         "name": "SepalLengthCm",
         "rawType": "float64",
         "type": "float"
        },
        {
         "name": "SepalWidthCm",
         "rawType": "float64",
         "type": "float"
        },
        {
         "name": "PetalLengthCm",
         "rawType": "float64",
         "type": "float"
        },
        {
         "name": "PetalWidthCm",
         "rawType": "float64",
         "type": "float"
        },
        {
         "name": "Species",
         "rawType": "object",
         "type": "string"
        },
        {
         "name": "PetalAreaCm",
         "rawType": "float64",
         "type": "float"
        }
       ],
       "conversionMethod": "pd.DataFrame",
       "ref": "763d83a9-3c73-450e-938d-b2cd85d9b2fd",
       "rows": [
        [
         "1",
         "5.1",
         "3.5",
         "1.4",
         "0.2",
         "Iris-setosa",
         "0.28"
        ],
        [
         "2",
         "4.9",
         "3.0",
         "1.4",
         "0.2",
         "Iris-setosa",
         "0.28"
        ],
        [
         "3",
         "4.7",
         "3.2",
         "1.3",
         "0.2",
         "Iris-setosa",
         "0.26"
        ],
        [
         "4",
         "4.6",
         "3.1",
         "1.5",
         "0.2",
         "Iris-setosa",
         "0.3"
        ],
        [
         "5",
         "5.0",
         "3.6",
         "1.4",
         "0.2",
         "Iris-setosa",
         "0.28"
        ],
        [
         "6",
         "5.4",
         "3.9",
         "1.7",
         "0.4",
         "Iris-setosa",
         "0.68"
        ],
        [
         "7",
         "4.6",
         "3.4",
         "1.4",
         "0.3",
         "Iris-setosa",
         "0.42"
        ],
        [
         "8",
         "5.0",
         "3.4",
         "1.5",
         "0.2",
         "Iris-setosa",
         "0.3"
        ],
        [
         "9",
         "4.4",
         "2.9",
         "1.4",
         "0.2",
         "Iris-setosa",
         "0.28"
        ],
        [
         "10",
         "4.9",
         "3.1",
         "1.5",
         "0.1",
         "Iris-setosa",
         "0.15"
        ],
        [
         "11",
         "5.4",
         "3.7",
         "1.5",
         "0.2",
         "Iris-setosa",
         "0.3"
        ],
        [
         "12",
         "4.8",
         "3.4",
         "1.6",
         "0.2",
         "Iris-setosa",
         "0.32"
        ],
        [
         "13",
         "4.8",
         "3.0",
         "1.4",
         "0.1",
         "Iris-setosa",
         "0.14"
        ],
        [
         "14",
         "4.3",
         "3.0",
         "1.1",
         "0.1",
         "Iris-setosa",
         "0.11"
        ],
        [
         "15",
         "5.8",
         "4.0",
         "1.2",
         "0.2",
         "Iris-setosa",
         "0.24"
        ],
        [
         "16",
         "5.7",
         "4.4",
         "1.5",
         "0.4",
         "Iris-setosa",
         "0.6"
        ],
        [
         "17",
         "5.4",
         "3.9",
         "1.3",
         "0.4",
         "Iris-setosa",
         "0.52"
        ],
        [
         "18",
         "5.1",
         "3.5",
         "1.4",
         "0.3",
         "Iris-setosa",
         "0.42"
        ],
        [
         "19",
         "5.7",
         "3.8",
         "1.7",
         "0.3",
         "Iris-setosa",
         "0.51"
        ],
        [
         "20",
         "5.1",
         "3.8",
         "1.5",
         "0.3",
         "Iris-setosa",
         "0.45"
        ],
        [
         "21",
         "5.4",
         "3.4",
         "1.7",
         "0.2",
         "Iris-setosa",
         "0.34"
        ],
        [
         "22",
         "5.1",
         "3.7",
         "1.5",
         "0.4",
         "Iris-setosa",
         "0.6"
        ],
        [
         "23",
         "4.6",
         "3.6",
         "1.0",
         "0.2",
         "Iris-setosa",
         "0.2"
        ],
        [
         "24",
         "5.1",
         "3.3",
         "1.7",
         "0.5",
         "Iris-setosa",
         "0.85"
        ],
        [
         "25",
         "4.8",
         "3.4",
         "1.9",
         "0.2",
         "Iris-setosa",
         "0.38"
        ],
        [
         "26",
         "5.0",
         "3.0",
         "1.6",
         "0.2",
         "Iris-setosa",
         "0.32"
        ],
        [
         "27",
         "5.0",
         "3.4",
         "1.6",
         "0.4",
         "Iris-setosa",
         "0.64"
        ],
        [
         "28",
         "5.2",
         "3.5",
         "1.5",
         "0.2",
         "Iris-setosa",
         "0.3"
        ],
        [
         "29",
         "5.2",
         "3.4",
         "1.4",
         "0.2",
         "Iris-setosa",
         "0.28"
        ],
        [
         "30",
         "4.7",
         "3.2",
         "1.6",
         "0.2",
         "Iris-setosa",
         "0.32"
        ],
        [
         "31",
         "4.8",
         "3.1",
         "1.6",
         "0.2",
         "Iris-setosa",
         "0.32"
        ],
        [
         "32",
         "5.4",
         "3.4",
         "1.5",
         "0.4",
         "Iris-setosa",
         "0.6"
        ],
        [
         "33",
         "5.2",
         "4.1",
         "1.5",
         "0.1",
         "Iris-setosa",
         "0.15"
        ],
        [
         "34",
         "5.5",
         "4.2",
         "1.4",
         "0.2",
         "Iris-setosa",
         "0.28"
        ],
        [
         "35",
         "4.9",
         "3.1",
         "1.5",
         "0.1",
         "Iris-setosa",
         "0.15"
        ],
        [
         "36",
         "5.0",
         "3.2",
         "1.2",
         "0.2",
         "Iris-setosa",
         "0.24"
        ],
        [
         "37",
         "5.5",
         "3.5",
         "1.3",
         "0.2",
         "Iris-setosa",
         "0.26"
        ],
        [
         "38",
         "4.9",
         "3.1",
         "1.5",
         "0.1",
         "Iris-setosa",
         "0.15"
        ],
        [
         "39",
         "4.4",
         "3.0",
         "1.3",
         "0.2",
         "Iris-setosa",
         "0.26"
        ],
        [
         "40",
         "5.1",
         "3.4",
         "1.5",
         "0.2",
         "Iris-setosa",
         "0.3"
        ],
        [
         "41",
         "5.0",
         "3.5",
         "1.3",
         "0.3",
         "Iris-setosa",
         "0.39"
        ],
        [
         "42",
         "4.5",
         "2.3",
         "1.3",
         "0.3",
         "Iris-setosa",
         "0.39"
        ],
        [
         "43",
         "4.4",
         "3.2",
         "1.3",
         "0.2",
         "Iris-setosa",
         "0.26"
        ],
        [
         "44",
         "5.0",
         "3.5",
         "1.6",
         "0.6",
         "Iris-setosa",
         "0.96"
        ],
        [
         "45",
         "5.1",
         "3.8",
         "1.9",
         "0.4",
         "Iris-setosa",
         "0.76"
        ],
        [
         "46",
         "4.8",
         "3.0",
         "1.4",
         "0.3",
         "Iris-setosa",
         "0.42"
        ],
        [
         "47",
         "5.1",
         "3.8",
         "1.6",
         "0.2",
         "Iris-setosa",
         "0.32"
        ],
        [
         "48",
         "4.6",
         "3.2",
         "1.4",
         "0.2",
         "Iris-setosa",
         "0.28"
        ],
        [
         "49",
         "5.3",
         "3.7",
         "1.5",
         "0.2",
         "Iris-setosa",
         "0.3"
        ],
        [
         "50",
         "5.0",
         "3.3",
         "1.4",
         "0.2",
         "Iris-setosa",
         "0.28"
        ]
       ],
       "shape": {
        "columns": 6,
        "rows": 150
       }
      },
      "text/html": [
       "<div>\n",
       "<style scoped>\n",
       "    .dataframe tbody tr th:only-of-type {\n",
       "        vertical-align: middle;\n",
       "    }\n",
       "\n",
       "    .dataframe tbody tr th {\n",
       "        vertical-align: top;\n",
       "    }\n",
       "\n",
       "    .dataframe thead th {\n",
       "        text-align: right;\n",
       "    }\n",
       "</style>\n",
       "<table border=\"1\" class=\"dataframe\">\n",
       "  <thead>\n",
       "    <tr style=\"text-align: right;\">\n",
       "      <th></th>\n",
       "      <th>SepalLengthCm</th>\n",
       "      <th>SepalWidthCm</th>\n",
       "      <th>PetalLengthCm</th>\n",
       "      <th>PetalWidthCm</th>\n",
       "      <th>Species</th>\n",
       "      <th>PetalAreaCm</th>\n",
       "    </tr>\n",
       "    <tr>\n",
       "      <th>Id</th>\n",
       "      <th></th>\n",
       "      <th></th>\n",
       "      <th></th>\n",
       "      <th></th>\n",
       "      <th></th>\n",
       "      <th></th>\n",
       "    </tr>\n",
       "  </thead>\n",
       "  <tbody>\n",
       "    <tr>\n",
       "      <th>1</th>\n",
       "      <td>5.1</td>\n",
       "      <td>3.5</td>\n",
       "      <td>1.4</td>\n",
       "      <td>0.2</td>\n",
       "      <td>Iris-setosa</td>\n",
       "      <td>0.28</td>\n",
       "    </tr>\n",
       "    <tr>\n",
       "      <th>2</th>\n",
       "      <td>4.9</td>\n",
       "      <td>3.0</td>\n",
       "      <td>1.4</td>\n",
       "      <td>0.2</td>\n",
       "      <td>Iris-setosa</td>\n",
       "      <td>0.28</td>\n",
       "    </tr>\n",
       "    <tr>\n",
       "      <th>3</th>\n",
       "      <td>4.7</td>\n",
       "      <td>3.2</td>\n",
       "      <td>1.3</td>\n",
       "      <td>0.2</td>\n",
       "      <td>Iris-setosa</td>\n",
       "      <td>0.26</td>\n",
       "    </tr>\n",
       "    <tr>\n",
       "      <th>4</th>\n",
       "      <td>4.6</td>\n",
       "      <td>3.1</td>\n",
       "      <td>1.5</td>\n",
       "      <td>0.2</td>\n",
       "      <td>Iris-setosa</td>\n",
       "      <td>0.30</td>\n",
       "    </tr>\n",
       "    <tr>\n",
       "      <th>5</th>\n",
       "      <td>5.0</td>\n",
       "      <td>3.6</td>\n",
       "      <td>1.4</td>\n",
       "      <td>0.2</td>\n",
       "      <td>Iris-setosa</td>\n",
       "      <td>0.28</td>\n",
       "    </tr>\n",
       "    <tr>\n",
       "      <th>...</th>\n",
       "      <td>...</td>\n",
       "      <td>...</td>\n",
       "      <td>...</td>\n",
       "      <td>...</td>\n",
       "      <td>...</td>\n",
       "      <td>...</td>\n",
       "    </tr>\n",
       "    <tr>\n",
       "      <th>146</th>\n",
       "      <td>6.7</td>\n",
       "      <td>3.0</td>\n",
       "      <td>5.2</td>\n",
       "      <td>2.3</td>\n",
       "      <td>Iris-virginica</td>\n",
       "      <td>11.96</td>\n",
       "    </tr>\n",
       "    <tr>\n",
       "      <th>147</th>\n",
       "      <td>6.3</td>\n",
       "      <td>2.5</td>\n",
       "      <td>5.0</td>\n",
       "      <td>1.9</td>\n",
       "      <td>Iris-virginica</td>\n",
       "      <td>9.50</td>\n",
       "    </tr>\n",
       "    <tr>\n",
       "      <th>148</th>\n",
       "      <td>6.5</td>\n",
       "      <td>3.0</td>\n",
       "      <td>5.2</td>\n",
       "      <td>2.0</td>\n",
       "      <td>Iris-virginica</td>\n",
       "      <td>10.40</td>\n",
       "    </tr>\n",
       "    <tr>\n",
       "      <th>149</th>\n",
       "      <td>6.2</td>\n",
       "      <td>3.4</td>\n",
       "      <td>5.4</td>\n",
       "      <td>2.3</td>\n",
       "      <td>Iris-virginica</td>\n",
       "      <td>12.42</td>\n",
       "    </tr>\n",
       "    <tr>\n",
       "      <th>150</th>\n",
       "      <td>5.9</td>\n",
       "      <td>3.0</td>\n",
       "      <td>5.1</td>\n",
       "      <td>1.8</td>\n",
       "      <td>Iris-virginica</td>\n",
       "      <td>9.18</td>\n",
       "    </tr>\n",
       "  </tbody>\n",
       "</table>\n",
       "<p>150 rows × 6 columns</p>\n",
       "</div>"
      ],
      "text/plain": [
       "     SepalLengthCm  SepalWidthCm  PetalLengthCm  PetalWidthCm         Species  \\\n",
       "Id                                                                              \n",
       "1              5.1           3.5            1.4           0.2     Iris-setosa   \n",
       "2              4.9           3.0            1.4           0.2     Iris-setosa   \n",
       "3              4.7           3.2            1.3           0.2     Iris-setosa   \n",
       "4              4.6           3.1            1.5           0.2     Iris-setosa   \n",
       "5              5.0           3.6            1.4           0.2     Iris-setosa   \n",
       "..             ...           ...            ...           ...             ...   \n",
       "146            6.7           3.0            5.2           2.3  Iris-virginica   \n",
       "147            6.3           2.5            5.0           1.9  Iris-virginica   \n",
       "148            6.5           3.0            5.2           2.0  Iris-virginica   \n",
       "149            6.2           3.4            5.4           2.3  Iris-virginica   \n",
       "150            5.9           3.0            5.1           1.8  Iris-virginica   \n",
       "\n",
       "     PetalAreaCm  \n",
       "Id                \n",
       "1           0.28  \n",
       "2           0.28  \n",
       "3           0.26  \n",
       "4           0.30  \n",
       "5           0.28  \n",
       "..           ...  \n",
       "146        11.96  \n",
       "147         9.50  \n",
       "148        10.40  \n",
       "149        12.42  \n",
       "150         9.18  \n",
       "\n",
       "[150 rows x 6 columns]"
      ]
     },
     "execution_count": 41,
     "metadata": {},
     "output_type": "execute_result"
    }
   ],
   "source": [
    "df_1['PetalAreaCm'] = (df_1['PetalLengthCm'] * df_1['PetalWidthCm']).round(2)\n",
    "\n",
    "df_1"
   ]
  },
  {
   "cell_type": "code",
   "execution_count": 36,
   "metadata": {},
   "outputs": [],
   "source": [
    "df_1.to_parquet('../../datasets/iris/Iris_Processed.parquet', engine='pyarrow')"
   ]
  },
  {
   "cell_type": "code",
   "execution_count": 37,
   "metadata": {},
   "outputs": [
    {
     "data": {
      "application/vnd.microsoft.datawrangler.viewer.v0+json": {
       "columns": [
        {
         "name": "Id",
         "rawType": "int64",
         "type": "integer"
        },
        {
         "name": "SepalLengthCm",
         "rawType": "float64",
         "type": "float"
        },
        {
         "name": "SepalWidthCm",
         "rawType": "float64",
         "type": "float"
        },
        {
         "name": "PetalLengthCm",
         "rawType": "float64",
         "type": "float"
        },
        {
         "name": "PetalWidthCm",
         "rawType": "float64",
         "type": "float"
        },
        {
         "name": "Species",
         "rawType": "object",
         "type": "string"
        },
        {
         "name": "PetalAreaCm",
         "rawType": "float64",
         "type": "float"
        }
       ],
       "conversionMethod": "pd.DataFrame",
       "ref": "047db19b-5f47-4cf6-b163-0d49605ccb73",
       "rows": [
        [
         "1",
         "5.1",
         "3.5",
         "1.4",
         "0.2",
         "Iris-setosa",
         "0.28"
        ],
        [
         "2",
         "4.9",
         "3.0",
         "1.4",
         "0.2",
         "Iris-setosa",
         "0.28"
        ],
        [
         "3",
         "4.7",
         "3.2",
         "1.3",
         "0.2",
         "Iris-setosa",
         "0.26"
        ],
        [
         "4",
         "4.6",
         "3.1",
         "1.5",
         "0.2",
         "Iris-setosa",
         "0.3"
        ],
        [
         "5",
         "5.0",
         "3.6",
         "1.4",
         "0.2",
         "Iris-setosa",
         "0.28"
        ],
        [
         "6",
         "5.4",
         "3.9",
         "1.7",
         "0.4",
         "Iris-setosa",
         "0.68"
        ],
        [
         "7",
         "4.6",
         "3.4",
         "1.4",
         "0.3",
         "Iris-setosa",
         "0.42"
        ],
        [
         "8",
         "5.0",
         "3.4",
         "1.5",
         "0.2",
         "Iris-setosa",
         "0.3"
        ],
        [
         "9",
         "4.4",
         "2.9",
         "1.4",
         "0.2",
         "Iris-setosa",
         "0.28"
        ],
        [
         "10",
         "4.9",
         "3.1",
         "1.5",
         "0.1",
         "Iris-setosa",
         "0.15"
        ],
        [
         "11",
         "5.4",
         "3.7",
         "1.5",
         "0.2",
         "Iris-setosa",
         "0.3"
        ],
        [
         "12",
         "4.8",
         "3.4",
         "1.6",
         "0.2",
         "Iris-setosa",
         "0.32"
        ],
        [
         "13",
         "4.8",
         "3.0",
         "1.4",
         "0.1",
         "Iris-setosa",
         "0.14"
        ],
        [
         "14",
         "4.3",
         "3.0",
         "1.1",
         "0.1",
         "Iris-setosa",
         "0.11"
        ],
        [
         "15",
         "5.8",
         "4.0",
         "1.2",
         "0.2",
         "Iris-setosa",
         "0.24"
        ],
        [
         "16",
         "5.7",
         "4.4",
         "1.5",
         "0.4",
         "Iris-setosa",
         "0.6"
        ],
        [
         "17",
         "5.4",
         "3.9",
         "1.3",
         "0.4",
         "Iris-setosa",
         "0.52"
        ],
        [
         "18",
         "5.1",
         "3.5",
         "1.4",
         "0.3",
         "Iris-setosa",
         "0.42"
        ],
        [
         "19",
         "5.7",
         "3.8",
         "1.7",
         "0.3",
         "Iris-setosa",
         "0.51"
        ],
        [
         "20",
         "5.1",
         "3.8",
         "1.5",
         "0.3",
         "Iris-setosa",
         "0.45"
        ],
        [
         "21",
         "5.4",
         "3.4",
         "1.7",
         "0.2",
         "Iris-setosa",
         "0.34"
        ],
        [
         "22",
         "5.1",
         "3.7",
         "1.5",
         "0.4",
         "Iris-setosa",
         "0.6"
        ],
        [
         "23",
         "4.6",
         "3.6",
         "1.0",
         "0.2",
         "Iris-setosa",
         "0.2"
        ],
        [
         "24",
         "5.1",
         "3.3",
         "1.7",
         "0.5",
         "Iris-setosa",
         "0.85"
        ],
        [
         "25",
         "4.8",
         "3.4",
         "1.9",
         "0.2",
         "Iris-setosa",
         "0.38"
        ],
        [
         "26",
         "5.0",
         "3.0",
         "1.6",
         "0.2",
         "Iris-setosa",
         "0.32"
        ],
        [
         "27",
         "5.0",
         "3.4",
         "1.6",
         "0.4",
         "Iris-setosa",
         "0.64"
        ],
        [
         "28",
         "5.2",
         "3.5",
         "1.5",
         "0.2",
         "Iris-setosa",
         "0.3"
        ],
        [
         "29",
         "5.2",
         "3.4",
         "1.4",
         "0.2",
         "Iris-setosa",
         "0.28"
        ],
        [
         "30",
         "4.7",
         "3.2",
         "1.6",
         "0.2",
         "Iris-setosa",
         "0.32"
        ],
        [
         "31",
         "4.8",
         "3.1",
         "1.6",
         "0.2",
         "Iris-setosa",
         "0.32"
        ],
        [
         "32",
         "5.4",
         "3.4",
         "1.5",
         "0.4",
         "Iris-setosa",
         "0.6"
        ],
        [
         "33",
         "5.2",
         "4.1",
         "1.5",
         "0.1",
         "Iris-setosa",
         "0.15"
        ],
        [
         "34",
         "5.5",
         "4.2",
         "1.4",
         "0.2",
         "Iris-setosa",
         "0.28"
        ],
        [
         "35",
         "4.9",
         "3.1",
         "1.5",
         "0.1",
         "Iris-setosa",
         "0.15"
        ],
        [
         "36",
         "5.0",
         "3.2",
         "1.2",
         "0.2",
         "Iris-setosa",
         "0.24"
        ],
        [
         "37",
         "5.5",
         "3.5",
         "1.3",
         "0.2",
         "Iris-setosa",
         "0.26"
        ],
        [
         "38",
         "4.9",
         "3.1",
         "1.5",
         "0.1",
         "Iris-setosa",
         "0.15"
        ],
        [
         "39",
         "4.4",
         "3.0",
         "1.3",
         "0.2",
         "Iris-setosa",
         "0.26"
        ],
        [
         "40",
         "5.1",
         "3.4",
         "1.5",
         "0.2",
         "Iris-setosa",
         "0.3"
        ],
        [
         "41",
         "5.0",
         "3.5",
         "1.3",
         "0.3",
         "Iris-setosa",
         "0.39"
        ],
        [
         "42",
         "4.5",
         "2.3",
         "1.3",
         "0.3",
         "Iris-setosa",
         "0.39"
        ],
        [
         "43",
         "4.4",
         "3.2",
         "1.3",
         "0.2",
         "Iris-setosa",
         "0.26"
        ],
        [
         "44",
         "5.0",
         "3.5",
         "1.6",
         "0.6",
         "Iris-setosa",
         "0.96"
        ],
        [
         "45",
         "5.1",
         "3.8",
         "1.9",
         "0.4",
         "Iris-setosa",
         "0.76"
        ],
        [
         "46",
         "4.8",
         "3.0",
         "1.4",
         "0.3",
         "Iris-setosa",
         "0.42"
        ],
        [
         "47",
         "5.1",
         "3.8",
         "1.6",
         "0.2",
         "Iris-setosa",
         "0.32"
        ],
        [
         "48",
         "4.6",
         "3.2",
         "1.4",
         "0.2",
         "Iris-setosa",
         "0.28"
        ],
        [
         "49",
         "5.3",
         "3.7",
         "1.5",
         "0.2",
         "Iris-setosa",
         "0.3"
        ],
        [
         "50",
         "5.0",
         "3.3",
         "1.4",
         "0.2",
         "Iris-setosa",
         "0.28"
        ]
       ],
       "shape": {
        "columns": 6,
        "rows": 150
       }
      },
      "text/html": [
       "<div>\n",
       "<style scoped>\n",
       "    .dataframe tbody tr th:only-of-type {\n",
       "        vertical-align: middle;\n",
       "    }\n",
       "\n",
       "    .dataframe tbody tr th {\n",
       "        vertical-align: top;\n",
       "    }\n",
       "\n",
       "    .dataframe thead th {\n",
       "        text-align: right;\n",
       "    }\n",
       "</style>\n",
       "<table border=\"1\" class=\"dataframe\">\n",
       "  <thead>\n",
       "    <tr style=\"text-align: right;\">\n",
       "      <th></th>\n",
       "      <th>SepalLengthCm</th>\n",
       "      <th>SepalWidthCm</th>\n",
       "      <th>PetalLengthCm</th>\n",
       "      <th>PetalWidthCm</th>\n",
       "      <th>Species</th>\n",
       "      <th>PetalAreaCm</th>\n",
       "    </tr>\n",
       "    <tr>\n",
       "      <th>Id</th>\n",
       "      <th></th>\n",
       "      <th></th>\n",
       "      <th></th>\n",
       "      <th></th>\n",
       "      <th></th>\n",
       "      <th></th>\n",
       "    </tr>\n",
       "  </thead>\n",
       "  <tbody>\n",
       "    <tr>\n",
       "      <th>1</th>\n",
       "      <td>5.1</td>\n",
       "      <td>3.5</td>\n",
       "      <td>1.4</td>\n",
       "      <td>0.2</td>\n",
       "      <td>Iris-setosa</td>\n",
       "      <td>0.28</td>\n",
       "    </tr>\n",
       "    <tr>\n",
       "      <th>2</th>\n",
       "      <td>4.9</td>\n",
       "      <td>3.0</td>\n",
       "      <td>1.4</td>\n",
       "      <td>0.2</td>\n",
       "      <td>Iris-setosa</td>\n",
       "      <td>0.28</td>\n",
       "    </tr>\n",
       "    <tr>\n",
       "      <th>3</th>\n",
       "      <td>4.7</td>\n",
       "      <td>3.2</td>\n",
       "      <td>1.3</td>\n",
       "      <td>0.2</td>\n",
       "      <td>Iris-setosa</td>\n",
       "      <td>0.26</td>\n",
       "    </tr>\n",
       "    <tr>\n",
       "      <th>4</th>\n",
       "      <td>4.6</td>\n",
       "      <td>3.1</td>\n",
       "      <td>1.5</td>\n",
       "      <td>0.2</td>\n",
       "      <td>Iris-setosa</td>\n",
       "      <td>0.30</td>\n",
       "    </tr>\n",
       "    <tr>\n",
       "      <th>5</th>\n",
       "      <td>5.0</td>\n",
       "      <td>3.6</td>\n",
       "      <td>1.4</td>\n",
       "      <td>0.2</td>\n",
       "      <td>Iris-setosa</td>\n",
       "      <td>0.28</td>\n",
       "    </tr>\n",
       "    <tr>\n",
       "      <th>...</th>\n",
       "      <td>...</td>\n",
       "      <td>...</td>\n",
       "      <td>...</td>\n",
       "      <td>...</td>\n",
       "      <td>...</td>\n",
       "      <td>...</td>\n",
       "    </tr>\n",
       "    <tr>\n",
       "      <th>146</th>\n",
       "      <td>6.7</td>\n",
       "      <td>3.0</td>\n",
       "      <td>5.2</td>\n",
       "      <td>2.3</td>\n",
       "      <td>Iris-virginica</td>\n",
       "      <td>11.96</td>\n",
       "    </tr>\n",
       "    <tr>\n",
       "      <th>147</th>\n",
       "      <td>6.3</td>\n",
       "      <td>2.5</td>\n",
       "      <td>5.0</td>\n",
       "      <td>1.9</td>\n",
       "      <td>Iris-virginica</td>\n",
       "      <td>9.50</td>\n",
       "    </tr>\n",
       "    <tr>\n",
       "      <th>148</th>\n",
       "      <td>6.5</td>\n",
       "      <td>3.0</td>\n",
       "      <td>5.2</td>\n",
       "      <td>2.0</td>\n",
       "      <td>Iris-virginica</td>\n",
       "      <td>10.40</td>\n",
       "    </tr>\n",
       "    <tr>\n",
       "      <th>149</th>\n",
       "      <td>6.2</td>\n",
       "      <td>3.4</td>\n",
       "      <td>5.4</td>\n",
       "      <td>2.3</td>\n",
       "      <td>Iris-virginica</td>\n",
       "      <td>12.42</td>\n",
       "    </tr>\n",
       "    <tr>\n",
       "      <th>150</th>\n",
       "      <td>5.9</td>\n",
       "      <td>3.0</td>\n",
       "      <td>5.1</td>\n",
       "      <td>1.8</td>\n",
       "      <td>Iris-virginica</td>\n",
       "      <td>9.18</td>\n",
       "    </tr>\n",
       "  </tbody>\n",
       "</table>\n",
       "<p>150 rows × 6 columns</p>\n",
       "</div>"
      ],
      "text/plain": [
       "     SepalLengthCm  SepalWidthCm  PetalLengthCm  PetalWidthCm         Species  \\\n",
       "Id                                                                              \n",
       "1              5.1           3.5            1.4           0.2     Iris-setosa   \n",
       "2              4.9           3.0            1.4           0.2     Iris-setosa   \n",
       "3              4.7           3.2            1.3           0.2     Iris-setosa   \n",
       "4              4.6           3.1            1.5           0.2     Iris-setosa   \n",
       "5              5.0           3.6            1.4           0.2     Iris-setosa   \n",
       "..             ...           ...            ...           ...             ...   \n",
       "146            6.7           3.0            5.2           2.3  Iris-virginica   \n",
       "147            6.3           2.5            5.0           1.9  Iris-virginica   \n",
       "148            6.5           3.0            5.2           2.0  Iris-virginica   \n",
       "149            6.2           3.4            5.4           2.3  Iris-virginica   \n",
       "150            5.9           3.0            5.1           1.8  Iris-virginica   \n",
       "\n",
       "     PetalAreaCm  \n",
       "Id                \n",
       "1           0.28  \n",
       "2           0.28  \n",
       "3           0.26  \n",
       "4           0.30  \n",
       "5           0.28  \n",
       "..           ...  \n",
       "146        11.96  \n",
       "147         9.50  \n",
       "148        10.40  \n",
       "149        12.42  \n",
       "150         9.18  \n",
       "\n",
       "[150 rows x 6 columns]"
      ]
     },
     "execution_count": 37,
     "metadata": {},
     "output_type": "execute_result"
    }
   ],
   "source": [
    "df_2 = pd.read_parquet('../../datasets/iris/Iris_Processed.parquet')\n",
    "\n",
    "df_2"
   ]
  },
  {
   "cell_type": "code",
   "execution_count": null,
   "metadata": {},
   "outputs": [],
   "source": []
  }
 ],
 "metadata": {
  "kernelspec": {
   "display_name": "Python 3",
   "language": "python",
   "name": "python3"
  },
  "language_info": {
   "codemirror_mode": {
    "name": "ipython",
    "version": 3
   },
   "file_extension": ".py",
   "mimetype": "text/x-python",
   "name": "python",
   "nbconvert_exporter": "python",
   "pygments_lexer": "ipython3",
   "version": "3.13.2"
  }
 },
 "nbformat": 4,
 "nbformat_minor": 2
}
